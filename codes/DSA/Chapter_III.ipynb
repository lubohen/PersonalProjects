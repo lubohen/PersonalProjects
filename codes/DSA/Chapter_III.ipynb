{
 "metadata": {
  "language_info": {
   "codemirror_mode": {
    "name": "ipython",
    "version": 3
   },
   "file_extension": ".py",
   "mimetype": "text/x-python",
   "name": "python",
   "nbconvert_exporter": "python",
   "pygments_lexer": "ipython3",
   "version": "3.7.10"
  },
  "orig_nbformat": 2,
  "kernelspec": {
   "name": "python3710jvsc74a57bd0b336b54b563911832d69bd8fac2a115859d5b7550884a46c67b3045d15b24ff9",
   "display_name": "Python 3.7.10 64-bit ('studyenv': conda)"
  },
  "metadata": {
   "interpreter": {
    "hash": "b336b54b563911832d69bd8fac2a115859d5b7550884a46c67b3045d15b24ff9"
   }
  }
 },
 "nbformat": 4,
 "nbformat_minor": 2,
 "cells": [
  {
   "cell_type": "code",
   "execution_count": 1,
   "metadata": {},
   "outputs": [
    {
     "output_type": "stream",
     "name": "stdout",
     "text": [
      "['trek', 'cannondale', 'redline', 'specialized']\n"
     ]
    }
   ],
   "source": [
    "bicycles = ['trek', 'cannondale', 'redline', 'specialized']\n",
    "print(bicycles)"
   ]
  },
  {
   "cell_type": "code",
   "execution_count": 2,
   "metadata": {},
   "outputs": [
    {
     "output_type": "stream",
     "name": "stdout",
     "text": [
      "trek\n"
     ]
    }
   ],
   "source": [
    "print(bicycles[0])"
   ]
  },
  {
   "cell_type": "code",
   "execution_count": 4,
   "metadata": {},
   "outputs": [
    {
     "output_type": "stream",
     "name": "stdout",
     "text": [
      "Cannondale\n"
     ]
    }
   ],
   "source": [
    "print(bicycles[1].title())"
   ]
  },
  {
   "cell_type": "code",
   "execution_count": 5,
   "metadata": {},
   "outputs": [
    {
     "output_type": "stream",
     "name": "stdout",
     "text": [
      "cannondale\nspecialized\n"
     ]
    }
   ],
   "source": [
    "print(bicycles[1])\n",
    "print(bicycles[3])"
   ]
  },
  {
   "cell_type": "code",
   "execution_count": 6,
   "metadata": {},
   "outputs": [
    {
     "output_type": "stream",
     "name": "stdout",
     "text": [
      "specialized\n"
     ]
    }
   ],
   "source": [
    "print(bicycles[-1])"
   ]
  },
  {
   "cell_type": "code",
   "execution_count": 9,
   "metadata": {},
   "outputs": [
    {
     "output_type": "stream",
     "name": "stdout",
     "text": [
      "My first bicycle was a Trek.\n"
     ]
    }
   ],
   "source": [
    "message = \"My first bicycle was a \" + bicycles[0].title() + \".\"\n",
    "print(message)"
   ]
  },
  {
   "source": [
    "## filhos\n",
    "\n",
    "sonia = ['lucas','daniel','tony','camila']\n",
    "eliana = ['vinicius']\n",
    "rosana = ['katusca','joao rodrigo']\n",
    "cristina = ['abner','adriel','aleska','yohan']\n",
    "ivana = ['isaac','ivandro']\n",
    "maria = []\n",
    "vanderlei = ['michael','deividi']\n",
    "donizete = ['dalila','elias','alvaro','ana']\n",
    "jaime = ['isaque','samara','thiago']\n",
    "\n",
    "# filhos_bonilha = [sonia, eliana, rosana, cristina, ivana, maria, vanderlei, donizete, jaime]\n",
    "# filhos_todos = []\n",
    "\n",
    "# for x in range(len(sonia)):\n",
    "#     a = sonia[x]\n",
    "#     filhos_todos.append(a)\n",
    "\n",
    "\n",
    "# print_sonia = print(','.join(sonia).title())\n",
    "# print_eliana = print(','.join(eliana).title())\n",
    "# print_rosana = print(','.join(rosana).title())\n",
    "# print_cristina = print(','.join(cristina).title())\n",
    "# print_ivana = print(','.join(ivana).title())\n",
    "# print_maria = print(','.join(maria).title())\n",
    "# print_vanderlei = print(','.join(vanderlei).title())\n",
    "# print_donizete = print(','.join(donizete).title())\n",
    "# print_jaime = print(','.join(jaime).title())\n",
    "\n",
    "# print (sonia[0])\n",
    "# print (sonia[1])\n",
    "# print (sonia[2])\n",
    "# print (sonia[3])\n",
    "\n",
    "# saudacao = sonia[0].title() + \" é um dos Bonilhas\"\n",
    "# print (saudacao)\n",
    "\n",
    "for x in range (len(sonia)):\n",
    "    saudacao = sonia[x].title() + \" é um dos Bonilhas\"\n",
    "    print (saudacao)"
   ],
   "cell_type": "code",
   "metadata": {},
   "execution_count": 69,
   "outputs": [
    {
     "output_type": "stream",
     "name": "stdout",
     "text": [
      "Lucas é um dos Bonilhas\nDaniel é um dos Bonilhas\nTony é um dos Bonilhas\nCamila é um dos Bonilhas\n"
     ]
    }
   ]
  },
  {
   "cell_type": "code",
   "execution_count": 57,
   "metadata": {},
   "outputs": [
    {
     "output_type": "stream",
     "name": "stdout",
     "text": [
      "['lucas', 'daniel', 'tony', 'camila']\n"
     ]
    }
   ],
   "source": [
    "print(filhos_todos)"
   ]
  },
  {
   "cell_type": "code",
   "execution_count": 71,
   "metadata": {},
   "outputs": [
    {
     "output_type": "stream",
     "name": "stdout",
     "text": [
      "['honda', 'yamaha', 'suzuki']\n"
     ]
    }
   ],
   "source": [
    "motocycles = ['honda','yamaha','suzuki']\n",
    "print(motocycles)\n",
    "motocycles[0] = 'ducati'\n",
    "\n"
   ]
  },
  {
   "cell_type": "code",
   "execution_count": null,
   "metadata": {},
   "outputs": [],
   "source": [
    "print(motocycles)"
   ]
  },
  {
   "cell_type": "code",
   "execution_count": 73,
   "metadata": {},
   "outputs": [],
   "source": [
    "motocycles.append('ducati')"
   ]
  },
  {
   "cell_type": "code",
   "execution_count": 74,
   "metadata": {},
   "outputs": [
    {
     "output_type": "stream",
     "name": "stdout",
     "text": [
      "['ducati', 'yamaha', 'suzuki', 'ducati']\n"
     ]
    }
   ],
   "source": [
    "print(motocycles)"
   ]
  },
  {
   "cell_type": "code",
   "execution_count": 75,
   "metadata": {},
   "outputs": [
    {
     "output_type": "stream",
     "name": "stdout",
     "text": [
      "['honda', 'yamaha', 'suzuki']\n"
     ]
    }
   ],
   "source": [
    "motocyclesnew = []\n",
    "\n",
    "motocyclesnew.append('honda')\n",
    "motocyclesnew.append('yamaha')\n",
    "motocyclesnew.append('suzuki')\n",
    "\n",
    "print(motocyclesnew)"
   ]
  },
  {
   "cell_type": "code",
   "execution_count": 76,
   "metadata": {},
   "outputs": [
    {
     "output_type": "stream",
     "name": "stdout",
     "text": [
      "['ducati', 'honda', 'yamaha', 'suzuki']\n"
     ]
    }
   ],
   "source": [
    "motocyclesnew.insert(0,'ducati')\n",
    "print(motocyclesnew)"
   ]
  },
  {
   "cell_type": "code",
   "execution_count": 77,
   "metadata": {},
   "outputs": [
    {
     "output_type": "stream",
     "name": "stdout",
     "text": [
      "['ducati', 'honda', 'yamaha', 'kawasaky', 'suzuki']\n"
     ]
    }
   ],
   "source": [
    "motocyclesnew.insert(3,'kawasaky')\n",
    "print(motocyclesnew)"
   ]
  },
  {
   "cell_type": "code",
   "execution_count": 78,
   "metadata": {},
   "outputs": [
    {
     "output_type": "stream",
     "name": "stdout",
     "text": [
      "['honda', 'yamaha', 'kawasaky', 'suzuki']\n"
     ]
    }
   ],
   "source": [
    "del motocyclesnew[0]\n",
    "print(motocyclesnew)"
   ]
  },
  {
   "cell_type": "code",
   "execution_count": 79,
   "metadata": {},
   "outputs": [
    {
     "output_type": "stream",
     "name": "stdout",
     "text": [
      "['honda', 'yamaha', 'kawasaky']\nsuzuki\n"
     ]
    }
   ],
   "source": [
    "popped_moto = motocyclesnew.pop()\n",
    "print(motocyclesnew)\n",
    "print(popped_moto)\n"
   ]
  },
  {
   "cell_type": "code",
   "execution_count": 80,
   "metadata": {},
   "outputs": [
    {
     "output_type": "stream",
     "name": "stdout",
     "text": [
      "The last motorcycle I owned was a Kawasaky.\n"
     ]
    }
   ],
   "source": [
    "last_owned = motocyclesnew.pop()\n",
    "print(\"The last motorcycle I owned was a \" + last_owned.title() + \".\")"
   ]
  },
  {
   "cell_type": "code",
   "execution_count": 81,
   "metadata": {},
   "outputs": [
    {
     "output_type": "stream",
     "name": "stdout",
     "text": [
      "['honda', 'yamaha']\n"
     ]
    }
   ],
   "source": [
    "print(motocyclesnew)"
   ]
  },
  {
   "cell_type": "code",
   "execution_count": 82,
   "metadata": {},
   "outputs": [
    {
     "output_type": "stream",
     "name": "stdout",
     "text": [
      "The first motorcycle I owned was a Honda.\n"
     ]
    }
   ],
   "source": [
    "first_owned = motocyclesnew.pop(0)\n",
    "print('The first motorcycle I owned was a ' + first_owned.title() + '.')"
   ]
  },
  {
   "cell_type": "code",
   "execution_count": 83,
   "metadata": {},
   "outputs": [
    {
     "output_type": "stream",
     "name": "stdout",
     "text": [
      "['honda', 'yamaha', 'suzuki', 'ducati']\n"
     ]
    }
   ],
   "source": [
    "motorcycles = ['honda', 'yamaha', 'suzuki', 'ducati']\n",
    "print(motorcycles)"
   ]
  },
  {
   "cell_type": "code",
   "execution_count": 84,
   "metadata": {},
   "outputs": [
    {
     "output_type": "stream",
     "name": "stdout",
     "text": [
      "['honda', 'yamaha', 'suzuki']\n"
     ]
    }
   ],
   "source": [
    "motorcycles.remove('ducati')\n",
    "print(motorcycles)"
   ]
  },
  {
   "cell_type": "code",
   "execution_count": 85,
   "metadata": {},
   "outputs": [
    {
     "output_type": "stream",
     "name": "stdout",
     "text": [
      "['honda', 'yamaha', 'suzuki', 'ducati']\n['honda', 'yamaha', 'suzuki']\n\nA Ducati is too expensive for me.\n"
     ]
    }
   ],
   "source": [
    "motorcycles = ['honda', 'yamaha', 'suzuki', 'ducati']\n",
    "print(motorcycles)\n",
    "\n",
    "too_expensive = 'ducati'\n",
    "motorcycles.remove(too_expensive)\n",
    "print(motorcycles)\n",
    "\n",
    "print(\"\\nA \" + too_expensive.title() + \" is too expensive for me.\")"
   ]
  },
  {
   "cell_type": "code",
   "execution_count": 86,
   "metadata": {},
   "outputs": [
    {
     "output_type": "stream",
     "name": "stdout",
     "text": [
      "Querido(a) Pai ficaremos honrados em recebelo(a) em nosso jantar de inauguração\nQuerido(a) Mãe ficaremos honrados em recebelo(a) em nosso jantar de inauguração\nQuerido(a) Tony ficaremos honrados em recebelo(a) em nosso jantar de inauguração\nQuerido(a) Camila ficaremos honrados em recebelo(a) em nosso jantar de inauguração\nQuerido(a) Dani ficaremos honrados em recebelo(a) em nosso jantar de inauguração\nQuerido(a) Evelyn ficaremos honrados em recebelo(a) em nosso jantar de inauguração\n"
     ]
    }
   ],
   "source": [
    "## Lista de Convidados\n",
    "\n",
    "convidados = ['pai','mãe','tony','camila','dani','evelyn']\n",
    "\n",
    "for x in range(len(convidados)):\n",
    "    conv = convidados[x].title()\n",
    "    message = \"Querido(a) \" + conv + \" ficaremos honrados em recebelo(a) em nosso jantar de inauguração\"\n",
    "    print(message)\n"
   ]
  },
  {
   "cell_type": "code",
   "execution_count": 94,
   "metadata": {},
   "outputs": [
    {
     "output_type": "stream",
     "name": "stdout",
     "text": [
      "['pai', 'mãe', 'tony', 'camila', 'dani', 'evelyn']\nQuerido(a) Pai ficaremos honrados em recebelo(a) em nosso jantar de inauguração\nQuerido(a) Mãe ficaremos honrados em recebelo(a) em nosso jantar de inauguração\nQuerido(a) Tony ficaremos honrados em recebelo(a) em nosso jantar de inauguração\nQuerido(a) Camila ficaremos honrados em recebelo(a) em nosso jantar de inauguração\nQuerido(a) Michael ficaremos honrados em recebelo(a) em nosso jantar de inauguração\nQuerido(a) Evelyn ficaremos honrados em recebelo(a) em nosso jantar de inauguração\n"
     ]
    }
   ],
   "source": [
    "convidados = ['pai','mãe','tony','camila','dani','evelyn']\n",
    "print (convidados)\n",
    "convidado_miss = 'dani'\n",
    "convidados.remove(convidado_miss)\n",
    "convidados = ['pai','mãe','tony','camila','michael','evelyn']\n",
    "\n",
    "for x in range(len(convidados)):\n",
    "    conv = convidados[x].title()\n",
    "    message = \"Querido(a) \" + conv + \" ficaremos honrados em recebelo(a) em nosso jantar de inauguração\"\n",
    "    print(message)\n"
   ]
  },
  {
   "cell_type": "code",
   "execution_count": 100,
   "metadata": {},
   "outputs": [
    {
     "output_type": "stream",
     "name": "stdout",
     "text": [
      "Querido(a) Pai encontramos uma mesa maior e teremos mais companhia para o jantar\nQuerido(a) Mãe encontramos uma mesa maior e teremos mais companhia para o jantar\nQuerido(a) Tony encontramos uma mesa maior e teremos mais companhia para o jantar\nQuerido(a) Camila encontramos uma mesa maior e teremos mais companhia para o jantar\nQuerido(a) Michael encontramos uma mesa maior e teremos mais companhia para o jantar\nQuerido(a) Evelyn encontramos uma mesa maior e teremos mais companhia para o jantar\n\n\nQuerido(a) Michele ficaremos honrados em recebelo(a) em nosso jantar de inauguração\nQuerido(a) Pai ficaremos honrados em recebelo(a) em nosso jantar de inauguração\nQuerido(a) Mãe ficaremos honrados em recebelo(a) em nosso jantar de inauguração\nQuerido(a) Deividi ficaremos honrados em recebelo(a) em nosso jantar de inauguração\nQuerido(a) Tony ficaremos honrados em recebelo(a) em nosso jantar de inauguração\nQuerido(a) Camila ficaremos honrados em recebelo(a) em nosso jantar de inauguração\nQuerido(a) Michael ficaremos honrados em recebelo(a) em nosso jantar de inauguração\nQuerido(a) Evelyn ficaremos honrados em recebelo(a) em nosso jantar de inauguração\nQuerido(a) Joyce ficaremos honrados em recebelo(a) em nosso jantar de inauguração\n"
     ]
    }
   ],
   "source": [
    "convidados = ['pai','mãe','tony','camila','michael','evelyn']\n",
    "\n",
    "for x in range(len(convidados)):\n",
    "    conv = convidados[x].title()\n",
    "    message = \"Querido(a) \" + conv + \" encontramos uma mesa maior e teremos mais companhia para o jantar\"\n",
    "    print(message)\n",
    "\n",
    "convidados.insert(0,'michele')\n",
    "convidados.insert(3,'deividi')\n",
    "convidados.append('joyce')\n",
    "\n",
    "print('\\n')\n",
    "\n",
    "for x in range(len(convidados)):\n",
    "    conv = convidados[x].title()\n",
    "    message = \"Querido(a) \" + conv + \" ficaremos honrados em recebelo(a) em nosso jantar de inauguração\"\n",
    "    print(message)\n"
   ]
  },
  {
   "cell_type": "code",
   "execution_count": 160,
   "metadata": {},
   "outputs": [
    {
     "output_type": "stream",
     "name": "stdout",
     "text": [
      "['michele', 'pai', 'mãe', 'deividi', 'tony', 'camila', 'michael', 'evelyn', 'joyce']\n\n\n Prezado(a)Michele nossa capacidade de convidados caiu apenas para duas pessoas\n Prezado(a)Pai nossa capacidade de convidados caiu apenas para duas pessoas\n Prezado(a)Mãe nossa capacidade de convidados caiu apenas para duas pessoas\n Prezado(a)Deividi nossa capacidade de convidados caiu apenas para duas pessoas\n Prezado(a)Tony nossa capacidade de convidados caiu apenas para duas pessoas\n Prezado(a)Camila nossa capacidade de convidados caiu apenas para duas pessoas\n Prezado(a)Michael nossa capacidade de convidados caiu apenas para duas pessoas\n Prezado(a)Evelyn nossa capacidade de convidados caiu apenas para duas pessoas\n Prezado(a)Joyce nossa capacidade de convidados caiu apenas para duas pessoas\n\n\n"
     ]
    }
   ],
   "source": [
    "convidados = ['pai','mãe','tony','camila','michael','evelyn']\n",
    "\n",
    "for x in range(len(convidados)):\n",
    "    conv = convidados[x].title()\n",
    "    message = \"Querido(a) \" + conv + \" encontramos uma mesa maior e teremos mais companhia para o jantar\"\n",
    "    # print(message)\n",
    "\n",
    "convidados.insert(0,'michele')\n",
    "convidados.insert(3,'deividi')\n",
    "convidados.append('joyce')\n",
    "\n",
    "print(convidados)\n",
    "print('\\n')\n",
    "\n",
    "for x in range(len(convidados)):\n",
    "    conv = convidados[x].title()\n",
    "    m = \" Prezado(a)\" + conv + \" nossa capacidade de convidados caiu apenas para duas pessoas\"\n",
    "    print(m)\n",
    "\n",
    "print ('\\n')\n",
    "\n",
    "# qtde_lista = len(convidados)\n",
    "\n",
    "# if qtde_lista > 1:\n",
    "#     for "
   ]
  },
  {
   "cell_type": "code",
   "execution_count": 161,
   "metadata": {},
   "outputs": [
    {
     "output_type": "stream",
     "name": "stdout",
     "text": [
      "Joyce Sinto muito, mas sua presença não será possível\nEvelyn Sinto muito, mas sua presença não será possível\nMichael Sinto muito, mas sua presença não será possível\nCamila Sinto muito, mas sua presença não será possível\nTony Sinto muito, mas sua presença não será possível\nDeividi Sinto muito, mas sua presença não será possível\nMãe Sinto muito, mas sua presença não será possível\n\n\nMichele, nosso convite para o jantar está de pé\nPai, nosso convite para o jantar está de pé\n"
     ]
    }
   ],
   "source": [
    "qtde_lista = len(convidados)\n",
    "\n",
    "while qtde_lista > 2:\n",
    "    conv_retirado = convidados.pop().title()\n",
    "    mes_conv = conv_retirado + \" Sinto muito, mas sua presença não será possível\" \n",
    "    print(mes_conv)\n",
    "    qtde_lista -= 1\n",
    "\n",
    "print('\\n')\n",
    "\n",
    "for x in range(len(convidados)):\n",
    "    conv_mant = convidados[x].title()\n",
    "    conv_mess = conv_mant + \", nosso convite para o jantar está de pé\"\n",
    "    print(conv_mess)\n",
    "    \n"
   ]
  },
  {
   "cell_type": "code",
   "execution_count": 162,
   "metadata": {},
   "outputs": [
    {
     "output_type": "stream",
     "name": "stdout",
     "text": [
      "[]\n"
     ]
    }
   ],
   "source": [
    "del convidados[1]\n",
    "del convidados[0]\n",
    "\n",
    "print(convidados)"
   ]
  },
  {
   "source": [
    "## Ordernação de valores de uma lista\n",
    "\n",
    "cars = ['bmw', 'audi', 'toyota', 'subaru']\n",
    "cars.sort()\n",
    "print(cars)"
   ],
   "cell_type": "code",
   "metadata": {},
   "execution_count": 163,
   "outputs": [
    {
     "output_type": "stream",
     "name": "stdout",
     "text": [
      "['audi', 'bmw', 'subaru', 'toyota']\n"
     ]
    }
   ]
  },
  {
   "cell_type": "code",
   "execution_count": 164,
   "metadata": {},
   "outputs": [
    {
     "output_type": "stream",
     "name": "stdout",
     "text": [
      "['toyota', 'subaru', 'bmw', 'audi']\n"
     ]
    }
   ],
   "source": [
    "cars = ['bmw', 'audi', 'toyota', 'subaru']\n",
    "cars.sort(reverse=True)\n",
    "print(cars)"
   ]
  },
  {
   "cell_type": "code",
   "execution_count": 167,
   "metadata": {},
   "outputs": [
    {
     "output_type": "stream",
     "name": "stdout",
     "text": [
      "Here is the original list:\n['bmw', 'audi', 'toyota', 'subaru']\n\nHere is the sorted list:\n['audi', 'bmw', 'subaru', 'toyota']\n"
     ]
    }
   ],
   "source": [
    "cars = ['bmw', 'audi', 'toyota', 'subaru']\n",
    "print(\"Here is the original list:\")\n",
    "print(cars)\n",
    "\n",
    "print(\"\\nHere is the sorted list:\")\n",
    "print(sorted(cars))\n",
    "\n",
    "\n",
    "\n"
   ]
  },
  {
   "cell_type": "code",
   "execution_count": 168,
   "metadata": {},
   "outputs": [
    {
     "output_type": "stream",
     "name": "stdout",
     "text": [
      "['bmw', 'audi', 'toyota', 'subaru']\n['subaru', 'toyota', 'audi', 'bmw']\n"
     ]
    }
   ],
   "source": [
    "cars = ['bmw', 'audi', 'toyota', 'subaru']\n",
    "print(cars)\n",
    "cars.reverse()\n",
    "print(cars)"
   ]
  },
  {
   "cell_type": "code",
   "execution_count": 169,
   "metadata": {},
   "outputs": [
    {
     "output_type": "execute_result",
     "data": {
      "text/plain": [
       "4"
      ]
     },
     "metadata": {},
     "execution_count": 169
    }
   ],
   "source": [
    "## Descobrindo o tamanho de uma lista\n",
    "\n",
    "cars = ['bmw', 'audi', 'toyota', 'subaru']\n",
    "len(cars)"
   ]
  },
  {
   "cell_type": "code",
   "execution_count": 186,
   "metadata": {},
   "outputs": [
    {
     "output_type": "stream",
     "name": "stdout",
     "text": [
      "['paris', 'london', 'madrid', 'new york', 'amsterdã']\n['amsterdã', 'london', 'madrid', 'new york', 'paris']\n['paris', 'london', 'madrid', 'new york', 'amsterdã']\n['paris', 'new york', 'madrid', 'london', 'amsterdã']\n['paris', 'london', 'madrid', 'new york', 'amsterdã']\n['amsterdã', 'new york', 'madrid', 'london', 'paris']\n['paris', 'london', 'madrid', 'new york', 'amsterdã']\n['amsterdã', 'london', 'madrid', 'new york', 'paris']\n['paris', 'new york', 'madrid', 'london', 'amsterdã']\n"
     ]
    }
   ],
   "source": [
    "places = ['paris','london','madrid','new york','amsterdã']\n",
    "print(places)\n",
    "print(sorted(places))\n",
    "print(places)\n",
    "print(sorted(places,reverse=True))\n",
    "print(places)\n",
    "places.reverse()\n",
    "print(places)\n",
    "places.reverse()\n",
    "print(places)\n",
    "places.sort()\n",
    "print(places)\n",
    "places.sort(reverse=True)\n",
    "print(places)"
   ]
  },
  {
   "cell_type": "code",
   "execution_count": 187,
   "metadata": {},
   "outputs": [
    {
     "output_type": "stream",
     "name": "stdout",
     "text": [
      "suzuki\n"
     ]
    }
   ],
   "source": [
    "motorcycles = ['honda', 'yamaha', 'suzuki']\n",
    "print(motorcycles[-1])"
   ]
  },
  {
   "cell_type": "code",
   "execution_count": 188,
   "metadata": {},
   "outputs": [
    {
     "output_type": "error",
     "ename": "IndexError",
     "evalue": "list index out of range",
     "traceback": [
      "\u001b[1;31m---------------------------------------------------------------------------\u001b[0m",
      "\u001b[1;31mIndexError\u001b[0m                                Traceback (most recent call last)",
      "\u001b[1;32m<ipython-input-188-08e14d7d6f1a>\u001b[0m in \u001b[0;36m<module>\u001b[1;34m\u001b[0m\n\u001b[0;32m      1\u001b[0m \u001b[0mmotorcycles\u001b[0m \u001b[1;33m=\u001b[0m \u001b[1;33m[\u001b[0m\u001b[1;33m]\u001b[0m\u001b[1;33m\u001b[0m\u001b[1;33m\u001b[0m\u001b[0m\n\u001b[1;32m----> 2\u001b[1;33m \u001b[0mprint\u001b[0m\u001b[1;33m(\u001b[0m\u001b[0mmotorcycles\u001b[0m\u001b[1;33m[\u001b[0m\u001b[1;33m-\u001b[0m\u001b[1;36m1\u001b[0m\u001b[1;33m]\u001b[0m\u001b[1;33m)\u001b[0m\u001b[1;33m\u001b[0m\u001b[1;33m\u001b[0m\u001b[0m\n\u001b[0m",
      "\u001b[1;31mIndexError\u001b[0m: list index out of range"
     ]
    }
   ],
   "source": [
    "motorcycles = []\n",
    "print(motorcycles[-1])"
   ]
  },
  {
   "cell_type": "code",
   "execution_count": null,
   "metadata": {},
   "outputs": [],
   "source": []
  }
 ]
}