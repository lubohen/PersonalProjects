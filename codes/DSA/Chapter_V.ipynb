{
 "metadata": {
  "language_info": {
   "codemirror_mode": {
    "name": "ipython",
    "version": 3
   },
   "file_extension": ".py",
   "mimetype": "text/x-python",
   "name": "python",
   "nbconvert_exporter": "python",
   "pygments_lexer": "ipython3",
   "version": "3.7.10"
  },
  "orig_nbformat": 2,
  "kernelspec": {
   "name": "python3",
   "display_name": "Python 3.7.10 64-bit ('studyenv': conda)"
  },
  "interpreter": {
   "hash": "b336b54b563911832d69bd8fac2a115859d5b7550884a46c67b3045d15b24ff9"
  }
 },
 "nbformat": 4,
 "nbformat_minor": 2,
 "cells": [
  {
   "cell_type": "code",
   "execution_count": 1,
   "source": [
    "cars = ['audi', 'bmw', 'subaru', 'toyota']\r\n",
    "\r\n",
    "for car in cars:\r\n",
    "    if car == 'bmw':\r\n",
    "        print(car.upper())\r\n",
    "    else:\r\n",
    "        print(car.title())"
   ],
   "outputs": [
    {
     "output_type": "stream",
     "name": "stdout",
     "text": [
      "Audi\n",
      "BMW\n",
      "Subaru\n",
      "Toyota\n"
     ]
    }
   ],
   "metadata": {}
  },
  {
   "cell_type": "code",
   "execution_count": 2,
   "source": [
    "car = 'bmw'\r\n",
    "car == 'bmw'"
   ],
   "outputs": [
    {
     "output_type": "execute_result",
     "data": {
      "text/plain": [
       "True"
      ]
     },
     "metadata": {},
     "execution_count": 2
    }
   ],
   "metadata": {}
  },
  {
   "cell_type": "code",
   "execution_count": 3,
   "source": [
    "car = 'audi'\r\n",
    "car == 'bmw'"
   ],
   "outputs": [
    {
     "output_type": "execute_result",
     "data": {
      "text/plain": [
       "False"
      ]
     },
     "metadata": {},
     "execution_count": 3
    }
   ],
   "metadata": {}
  },
  {
   "cell_type": "code",
   "execution_count": 4,
   "source": [
    "car = 'audi'\r\n",
    "car == 'Audi'"
   ],
   "outputs": [
    {
     "output_type": "execute_result",
     "data": {
      "text/plain": [
       "False"
      ]
     },
     "metadata": {},
     "execution_count": 4
    }
   ],
   "metadata": {}
  },
  {
   "cell_type": "code",
   "execution_count": 7,
   "source": [
    "car.title() == 'Audi'"
   ],
   "outputs": [
    {
     "output_type": "execute_result",
     "data": {
      "text/plain": [
       "True"
      ]
     },
     "metadata": {},
     "execution_count": 7
    }
   ],
   "metadata": {}
  },
  {
   "cell_type": "code",
   "execution_count": 8,
   "source": [
    "requested_topping = 'mushrooms'\r\n",
    "\r\n",
    "if requested_topping != 'anchovies':\r\n",
    "    print(\"Hold the anchovies!\")"
   ],
   "outputs": [
    {
     "output_type": "stream",
     "name": "stdout",
     "text": [
      "Hold the anchovies!\n"
     ]
    }
   ],
   "metadata": {}
  },
  {
   "cell_type": "code",
   "execution_count": 11,
   "source": [
    "age_0 = 22\r\n",
    "age_1 = 22\r\n",
    "\r\n",
    "(age_0 >= 21) and (age_1 >= 21)"
   ],
   "outputs": [
    {
     "output_type": "execute_result",
     "data": {
      "text/plain": [
       "True"
      ]
     },
     "metadata": {},
     "execution_count": 11
    }
   ],
   "metadata": {}
  },
  {
   "cell_type": "code",
   "execution_count": 1,
   "source": [
    "idade0 = 22\r\n",
    "idade1 = 18\r\n",
    "\r\n",
    "idade0 >= 21 or idade1 >=21 "
   ],
   "outputs": [
    {
     "output_type": "execute_result",
     "data": {
      "text/plain": [
       "True"
      ]
     },
     "metadata": {},
     "execution_count": 1
    }
   ],
   "metadata": {}
  },
  {
   "cell_type": "code",
   "execution_count": 2,
   "source": [
    "idade0 = 18\r\n",
    "idade0 >= 21 or idade1 >= 21"
   ],
   "outputs": [
    {
     "output_type": "execute_result",
     "data": {
      "text/plain": [
       "False"
      ]
     },
     "metadata": {},
     "execution_count": 2
    }
   ],
   "metadata": {}
  },
  {
   "cell_type": "code",
   "execution_count": 5,
   "source": [
    "requested_toppings = ['mushrooms','onions','pineapple']\r\n",
    "'mushrooms' in requested_toppings\r\n",
    "'pepperoni' in requested_toppings"
   ],
   "outputs": [
    {
     "output_type": "execute_result",
     "data": {
      "text/plain": [
       "True"
      ]
     },
     "metadata": {},
     "execution_count": 5
    }
   ],
   "metadata": {}
  },
  {
   "cell_type": "code",
   "execution_count": 11,
   "source": [
    "# VERIFICANDO SE UM VALOR NÃO ESTÁ NA LISTA\r\n",
    "\r\n",
    "banned_users = ['andrew','carolina','david']\r\n",
    "user = 'marie'\r\n",
    "\r\n",
    "if user not in banned_users:\r\n",
    "    print(user.title() + \", you can post a response if you wish.\")\r\n",
    "    \r\n",
    "else:\r\n",
    "\r\n",
    "    print(user.title() + \", you can't post a response.\")"
   ],
   "outputs": [
    {
     "output_type": "stream",
     "name": "stdout",
     "text": [
      "Marie, you can post a response if you wish.\n"
     ]
    }
   ],
   "metadata": {}
  },
  {
   "cell_type": "code",
   "execution_count": 12,
   "source": [
    "car = 'subaru'\r\n",
    "print(\"Is car == 'subaru'? I predict True.\")\r\n",
    "print(car == 'subaru')\r\n",
    "print(\"\\nIs car == 'audi'? I predict False.\")\r\n",
    "print(car == 'audi')"
   ],
   "outputs": [
    {
     "output_type": "stream",
     "name": "stdout",
     "text": [
      "Is car == 'subaru'? I predict True.\n",
      "True\n",
      "\n",
      "Is car == 'audi'? I predict False.\n",
      "False\n"
     ]
    }
   ],
   "metadata": {}
  },
  {
   "cell_type": "code",
   "execution_count": 15,
   "source": [
    "## 5.2\r\n",
    "\r\n",
    "NUM1 = 6\r\n",
    "NUM2 = 7\r\n",
    "\r\n",
    "NUM1 == NUM2\r\n",
    "NUM2 != NUM1\r\n",
    "\r\n",
    "user1 = \"Carol\"\r\n",
    "user2 = \"Vanessa\"\r\n",
    "\r\n",
    "users  = []"
   ],
   "outputs": [
    {
     "output_type": "execute_result",
     "data": {
      "text/plain": [
       "False"
      ]
     },
     "metadata": {},
     "execution_count": 15
    }
   ],
   "metadata": {}
  },
  {
   "cell_type": "code",
   "execution_count": 4,
   "source": [
    "## voting.py\r\n",
    "\r\n",
    "idade = 17\r\n",
    "\r\n",
    "if idade >= 18:\r\n",
    "    print(\"Você tem idade para votar\")\r\n",
    "    print(\"Voce já se registrou para votar ?\")\r\n",
    "else:\r\n",
    "    print(\"Você não tem idade suficiente para votar\")\r\n",
    "    print(\"Quando tiver 18, se registre para votar\")\r\n"
   ],
   "outputs": [
    {
     "output_type": "stream",
     "name": "stdout",
     "text": [
      "Você não tem idade suficiente para votar\n",
      "Quando tiver 18, se registre or votar\n"
     ]
    }
   ],
   "metadata": {}
  },
  {
   "cell_type": "code",
   "execution_count": 6,
   "source": [
    "## Amusement_park.py\r\n",
    "\r\n",
    "idade = 12\r\n",
    "\r\n",
    "if idade < 4:\r\n",
    "    price = 0\r\n",
    "elif idade < 18:\r\n",
    "    price = 5\r\n",
    "else:\r\n",
    "    price = 10\r\n",
    "\r\n",
    "print (\"Your admission cost is $\" + str(price) + \".\")"
   ],
   "outputs": [
    {
     "output_type": "stream",
     "name": "stdout",
     "text": [
      "Your admission cost is $5.\n"
     ]
    }
   ],
   "metadata": {}
  },
  {
   "cell_type": "code",
   "execution_count": 11,
   "source": [
    "## Desconto idosos\r\n",
    "\r\n",
    "idade = 64\r\n",
    "\r\n",
    "if idade < 4:\r\n",
    "    price = 0\r\n",
    "elif idade < 18:\r\n",
    "    price = 5\r\n",
    "elif idade < 65:\r\n",
    "    price = 10\r\n",
    "elif idade >= 65:\r\n",
    "    price = 5\r\n",
    "\r\n",
    "\r\n",
    "print (\"Your admission cost is $\" + str(price) + \".\")"
   ],
   "outputs": [
    {
     "output_type": "stream",
     "name": "stdout",
     "text": [
      "Your admission cost is $10.\n"
     ]
    }
   ],
   "metadata": {}
  },
  {
   "cell_type": "code",
   "execution_count": 1,
   "source": [
    "## toppings\r\n",
    "\r\n",
    "requested_toppings = ['mushrooms','extra cheese']\r\n",
    "\r\n",
    "if 'mushrooms' in requested_toppings:\r\n",
    "    print(\"Adding mushrooms.\")\r\n",
    "if 'pepperoni' in requested_toppings:\r\n",
    "    print(\"Adding pepperoni.\")\r\n",
    "if 'extra cheese' in requested_toppings:\r\n",
    "    print(\"Adding extra cheese.\")\r\n",
    "\r\n",
    "print(\"\\nFinished making your pizza!\")\r\n",
    "\r\n"
   ],
   "outputs": [
    {
     "output_type": "stream",
     "name": "stdout",
     "text": [
      "Adding mushrooms.\n",
      "Adding extra cheese.\n",
      "\n",
      "Finished making your pizza!\n"
     ]
    }
   ],
   "metadata": {}
  },
  {
   "cell_type": "code",
   "execution_count": 11,
   "source": [
    "alien_color = \"yellow\"\r\n",
    "\r\n",
    "if alien_color is \"green\":\r\n",
    "    print(\"Você ganhou 5 pontos\")\r\n",
    "elif alien_color is \"red\":\r\n",
    "    print(\"Você ganhou 10 pontos\")\r\n",
    "else:\r\n",
    "    print(\"Voce perdeu 5 pontos\")"
   ],
   "outputs": [
    {
     "output_type": "stream",
     "name": "stdout",
     "text": [
      "Voce perdeu 5 pontos\n"
     ]
    }
   ],
   "metadata": {}
  },
  {
   "cell_type": "code",
   "execution_count": 24,
   "source": [
    "## Life Stage\r\n",
    "\r\n",
    "idade = 65\r\n",
    "\r\n",
    "if idade < 2:\r\n",
    "    print(\"This people is a baby\")\r\n",
    "if idade < 4 :\r\n",
    "    print(\"This is a Kid\")\r\n",
    "if idade < 13:\r\n",
    "    print(\"This is a boy or girl\")\r\n",
    "if idade < 20:\r\n",
    "    print(\"This is a teen or younger\")\r\n",
    "if idade < 65:\r\n",
    "    print(\"This a adult\")\r\n",
    "else:\r\n",
    "    print(\"This is a old\")"
   ],
   "outputs": [
    {
     "output_type": "stream",
     "name": "stdout",
     "text": [
      "This is a old\n"
     ]
    }
   ],
   "metadata": {}
  },
  {
   "cell_type": "code",
   "execution_count": 25,
   "source": [
    "## Favorite Fruit\r\n",
    "\r\n",
    "favorite_fruits = ['Banana','Mango','Cocoa','Strawberry']\r\n",
    "\r\n",
    "if \"Banana\" in favorite_fruits:\r\n",
    "    print(\"Você realmente gosta de Banana\")"
   ],
   "outputs": [
    {
     "output_type": "stream",
     "name": "stdout",
     "text": [
      "Você realmente gosta de Banana\n"
     ]
    }
   ],
   "metadata": {}
  },
  {
   "cell_type": "code",
   "execution_count": 7,
   "source": [
    "## VERIFICANDO SE A LISTA NÃO ESTÁ VAZIA\r\n",
    "\r\n",
    "requested_toppings = []\r\n",
    "\r\n",
    "if requested_toppings:\r\n",
    "    for requested_toppings in requested_toppings:\r\n",
    "        print(\"Adding \" + requested_toppings + \".\")\r\n",
    "    print (\"\\nFinished making your pizza!\")\r\n",
    "else:\r\n",
    "    print(\"Are you sure you want a plain pizza?\")\r\n"
   ],
   "outputs": [
    {
     "output_type": "stream",
     "name": "stdout",
     "text": [
      "Are you sure you want a plain pizza?\n"
     ]
    }
   ],
   "metadata": {}
  },
  {
   "cell_type": "code",
   "execution_count": 9,
   "source": [
    "## VARIAS LISTAS E COMPARANDO\r\n",
    "\r\n",
    "available_toppings = ['mushrooms','olives']\r\n",
    "requested_toppings = []\r\n",
    "\r\n",
    "for requested_topping in requested_toppings:\r\n",
    "    if requested_topping in available_toppings:\r\n",
    "        print(\"Adding \" + requested_topping + \".\")\r\n",
    "    else:\r\n",
    "        print(\"Sorry, we don't have\" + requested_topping + \".\")\r\n",
    "print (\"\\nFinished making your pizza!\")\r\n"
   ],
   "outputs": [
    {
     "output_type": "stream",
     "name": "stdout",
     "text": [
      "\n",
      "Finished making your pizza!\n"
     ]
    }
   ],
   "metadata": {}
  },
  {
   "cell_type": "code",
   "execution_count": null,
   "source": [],
   "outputs": [],
   "metadata": {}
  }
 ]
}