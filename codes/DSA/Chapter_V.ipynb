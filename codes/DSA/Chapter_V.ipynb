{
 "metadata": {
  "language_info": {
   "codemirror_mode": {
    "name": "ipython",
    "version": 3
   },
   "file_extension": ".py",
   "mimetype": "text/x-python",
   "name": "python",
   "nbconvert_exporter": "python",
   "pygments_lexer": "ipython3",
   "version": "3.7.10"
  },
  "orig_nbformat": 2,
  "kernelspec": {
   "name": "python3710jvsc74a57bd0b336b54b563911832d69bd8fac2a115859d5b7550884a46c67b3045d15b24ff9",
   "display_name": "Python 3.7.10 64-bit ('studyenv': conda)"
  }
 },
 "nbformat": 4,
 "nbformat_minor": 2,
 "cells": [
  {
   "cell_type": "code",
   "execution_count": 1,
   "metadata": {},
   "outputs": [
    {
     "output_type": "stream",
     "name": "stdout",
     "text": [
      "Audi\nBMW\nSubaru\nToyota\n"
     ]
    }
   ],
   "source": [
    "cars = ['audi', 'bmw', 'subaru', 'toyota']\n",
    "\n",
    "for car in cars:\n",
    "    if car == 'bmw':\n",
    "        print(car.upper())\n",
    "    else:\n",
    "        print(car.title())"
   ]
  },
  {
   "cell_type": "code",
   "execution_count": 2,
   "metadata": {},
   "outputs": [
    {
     "output_type": "execute_result",
     "data": {
      "text/plain": [
       "True"
      ]
     },
     "metadata": {},
     "execution_count": 2
    }
   ],
   "source": [
    "car = 'bmw'\n",
    "car == 'bmw'"
   ]
  },
  {
   "cell_type": "code",
   "execution_count": 3,
   "metadata": {},
   "outputs": [
    {
     "output_type": "execute_result",
     "data": {
      "text/plain": [
       "False"
      ]
     },
     "metadata": {},
     "execution_count": 3
    }
   ],
   "source": [
    "car = 'audi'\n",
    "car == 'bmw'"
   ]
  },
  {
   "cell_type": "code",
   "execution_count": 4,
   "metadata": {},
   "outputs": [
    {
     "output_type": "execute_result",
     "data": {
      "text/plain": [
       "False"
      ]
     },
     "metadata": {},
     "execution_count": 4
    }
   ],
   "source": [
    "car = 'audi'\n",
    "car == 'Audi'"
   ]
  },
  {
   "cell_type": "code",
   "execution_count": 7,
   "metadata": {},
   "outputs": [
    {
     "output_type": "execute_result",
     "data": {
      "text/plain": [
       "True"
      ]
     },
     "metadata": {},
     "execution_count": 7
    }
   ],
   "source": [
    "car.title() == 'Audi'"
   ]
  },
  {
   "cell_type": "code",
   "execution_count": 8,
   "metadata": {},
   "outputs": [
    {
     "output_type": "stream",
     "name": "stdout",
     "text": [
      "Hold the anchovies!\n"
     ]
    }
   ],
   "source": [
    "requested_topping = 'mushrooms'\n",
    "\n",
    "if requested_topping != 'anchovies':\n",
    "    print(\"Hold the anchovies!\")"
   ]
  },
  {
   "cell_type": "code",
   "execution_count": 11,
   "metadata": {},
   "outputs": [
    {
     "output_type": "execute_result",
     "data": {
      "text/plain": [
       "True"
      ]
     },
     "metadata": {},
     "execution_count": 11
    }
   ],
   "source": [
    "age_0 = 22\n",
    "age_1 = 22\n",
    "\n",
    "(age_0 >= 21) and (age_1 >= 21)"
   ]
  },
  {
   "cell_type": "code",
   "execution_count": 1,
   "metadata": {},
   "outputs": [
    {
     "output_type": "execute_result",
     "data": {
      "text/plain": [
       "True"
      ]
     },
     "metadata": {},
     "execution_count": 1
    }
   ],
   "source": [
    "idade0 = 22\n",
    "idade1 = 18\n",
    "\n",
    "idade0 >= 21 or idade1 >=21 "
   ]
  },
  {
   "cell_type": "code",
   "execution_count": 2,
   "metadata": {},
   "outputs": [
    {
     "output_type": "execute_result",
     "data": {
      "text/plain": [
       "False"
      ]
     },
     "metadata": {},
     "execution_count": 2
    }
   ],
   "source": [
    "idade0 = 18\n",
    "idade0 >= 21 or idade1 >= 21"
   ]
  },
  {
   "cell_type": "code",
   "execution_count": 5,
   "metadata": {},
   "outputs": [
    {
     "output_type": "execute_result",
     "data": {
      "text/plain": [
       "True"
      ]
     },
     "metadata": {},
     "execution_count": 5
    }
   ],
   "source": [
    "requested_toppings = ['mushrooms','onions','pineapple']\n",
    "'mushrooms' in requested_toppings\n",
    "'pepperoni' in requested_toppings"
   ]
  },
  {
   "cell_type": "code",
   "execution_count": 11,
   "metadata": {},
   "outputs": [
    {
     "output_type": "stream",
     "name": "stdout",
     "text": [
      "Marie, you can post a response if you wish.\n"
     ]
    }
   ],
   "source": [
    "# VERIFICANDO SE UM VALOR NÃO ESTÁ NA LISTA\n",
    "\n",
    "banned_users = ['andrew','carolina','david']\n",
    "user = 'marie'\n",
    "\n",
    "if user not in banned_users:\n",
    "    print(user.title() + \", you can post a response if you wish.\")\n",
    "    \n",
    "else:\n",
    "\n",
    "    print(user.title() + \", you can't post a response.\")"
   ]
  },
  {
   "cell_type": "code",
   "execution_count": 12,
   "metadata": {},
   "outputs": [
    {
     "output_type": "stream",
     "name": "stdout",
     "text": [
      "Is car == 'subaru'? I predict True.\nTrue\n\nIs car == 'audi'? I predict False.\nFalse\n"
     ]
    }
   ],
   "source": [
    "car = 'subaru'\n",
    "print(\"Is car == 'subaru'? I predict True.\")\n",
    "print(car == 'subaru')\n",
    "print(\"\\nIs car == 'audi'? I predict False.\")\n",
    "print(car == 'audi')"
   ]
  },
  {
   "cell_type": "code",
   "execution_count": 15,
   "metadata": {},
   "outputs": [
    {
     "output_type": "execute_result",
     "data": {
      "text/plain": [
       "False"
      ]
     },
     "metadata": {},
     "execution_count": 15
    }
   ],
   "source": [
    "## 5.2\n",
    "\n",
    "NUM1 = 6\n",
    "NUM2 = 7\n",
    "\n",
    "NUM1 == NUM2\n",
    "NUM2 != NUM1\n",
    "\n",
    "user1 = \"Carol\"\n",
    "user2 = \"Vanessa\"\n",
    "\n",
    "users  = []"
   ]
  },
  {
   "cell_type": "code",
   "execution_count": 4,
   "metadata": {},
   "outputs": [
    {
     "output_type": "stream",
     "name": "stdout",
     "text": [
      "Você não tem idade suficiente para votar\nQuando tiver 18, se registre or votar\n"
     ]
    }
   ],
   "source": [
    "## voting.py\n",
    "\n",
    "idade = 17\n",
    "\n",
    "if idade >= 18:\n",
    "    print(\"Você tem idade para votar\")\n",
    "    print(\"Voce já se registrou para votar ?\")\n",
    "else:\n",
    "    print(\"Você não tem idade suficiente para votar\")\n",
    "    print(\"Quando tiver 18, se registre para votar\")\n"
   ]
  },
  {
   "cell_type": "code",
   "execution_count": 6,
   "metadata": {},
   "outputs": [
    {
     "output_type": "stream",
     "name": "stdout",
     "text": [
      "Your admission cost is $5.\n"
     ]
    }
   ],
   "source": [
    "## Amusement_park.py\n",
    "\n",
    "idade = 12\n",
    "\n",
    "if idade < 4:\n",
    "    price = 0\n",
    "elif idade < 18:\n",
    "    price = 5\n",
    "else:\n",
    "    price = 10\n",
    "\n",
    "print (\"Your admission cost is $\" + str(price) + \".\")"
   ]
  },
  {
   "cell_type": "code",
   "execution_count": 11,
   "metadata": {},
   "outputs": [
    {
     "output_type": "stream",
     "name": "stdout",
     "text": [
      "Your admission cost is $10.\n"
     ]
    }
   ],
   "source": [
    "## Desconto idosos\n",
    "\n",
    "idade = 64\n",
    "\n",
    "if idade < 4:\n",
    "    price = 0\n",
    "elif idade < 18:\n",
    "    price = 5\n",
    "elif idade < 65:\n",
    "    price = 10\n",
    "elif idade >= 65:\n",
    "    price = 5\n",
    "\n",
    "\n",
    "print (\"Your admission cost is $\" + str(price) + \".\")"
   ]
  },
  {
   "cell_type": "code",
   "execution_count": 1,
   "metadata": {},
   "outputs": [
    {
     "output_type": "stream",
     "name": "stdout",
     "text": [
      "Adding mushrooms.\nAdding extra cheese.\n\nFinished making your pizza!\n"
     ]
    }
   ],
   "source": [
    "## toppings\n",
    "\n",
    "requested_toppings = ['mushrooms','extra cheese']\n",
    "\n",
    "if 'mushrooms' in requested_toppings:\n",
    "    print(\"Adding mushrooms.\")\n",
    "if 'pepperoni' in requested_toppings:\n",
    "    print(\"Adding pepperoni.\")\n",
    "if 'extra cheese' in requested_toppings:\n",
    "    print(\"Adding extra cheese.\")\n",
    "\n",
    "print(\"\\nFinished making your pizza!\")\n",
    "\n"
   ]
  },
  {
   "cell_type": "code",
   "execution_count": 11,
   "metadata": {},
   "outputs": [
    {
     "output_type": "stream",
     "name": "stdout",
     "text": [
      "Voce perdeu 5 pontos\n"
     ]
    }
   ],
   "source": [
    "alien_color = \"yellow\"\n",
    "\n",
    "if alien_color is \"green\":\n",
    "    print(\"Você ganhou 5 pontos\")\n",
    "elif alien_color is \"red\":\n",
    "    print(\"Você ganhou 10 pontos\")\n",
    "else:\n",
    "    print(\"Voce perdeu 5 pontos\")"
   ]
  },
  {
   "source": [
    "## Life Stage\n",
    "\n",
    "idade = 65\n",
    "\n",
    "if idade < 2:\n",
    "    print(\"This people is a baby\")\n",
    "if idade < 4 :\n",
    "    print(\"This is a Kid\")\n",
    "if idade < 13:\n",
    "    print(\"This is a boy or girl\")\n",
    "if idade < 20:\n",
    "    print(\"This is a teen or younger\")\n",
    "if idade < 65:\n",
    "    print(\"This a adult\")\n",
    "else:\n",
    "    print(\"This is a old\")"
   ],
   "cell_type": "code",
   "metadata": {},
   "execution_count": 24,
   "outputs": [
    {
     "output_type": "stream",
     "name": "stdout",
     "text": [
      "This is a old\n"
     ]
    }
   ]
  },
  {
   "cell_type": "code",
   "execution_count": 25,
   "metadata": {},
   "outputs": [
    {
     "output_type": "stream",
     "name": "stdout",
     "text": [
      "Você realmente gosta de Banana\n"
     ]
    }
   ],
   "source": [
    "## Favorite Fruit\n",
    "\n",
    "favorite_fruits = ['Banana','Mango','Cocoa','Strawberry']\n",
    "\n",
    "if \"Banana\" in favorite_fruits:\n",
    "    print(\"Você realmente gosta de Banana\")"
   ]
  },
  {
   "cell_type": "code",
   "execution_count": null,
   "metadata": {},
   "outputs": [],
   "source": []
  }
 ]
}