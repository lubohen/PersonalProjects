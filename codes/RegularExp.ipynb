{
 "metadata": {
  "language_info": {
   "codemirror_mode": {
    "name": "ipython",
    "version": 3
   },
   "file_extension": ".py",
   "mimetype": "text/x-python",
   "name": "python",
   "nbconvert_exporter": "python",
   "pygments_lexer": "ipython3",
   "version": "3.9.1-final"
  },
  "orig_nbformat": 2,
  "kernelspec": {
   "name": "python39164bitscrapyenvconda4de42fb7537e48788dce033b5870fe48",
   "display_name": "Python 3.9.1 64-bit ('scrapyenv': conda)",
   "language": "python"
  }
 },
 "nbformat": 4,
 "nbformat_minor": 2,
 "cells": [
  {
   "cell_type": "code",
   "execution_count": 1,
   "metadata": {},
   "outputs": [],
   "source": [
    "## importando o modulo RE (regular expression)\n",
    "\n",
    "import re"
   ]
  },
  {
   "cell_type": "code",
   "execution_count": 2,
   "metadata": {},
   "outputs": [],
   "source": [
    "## Lista de termos para busca\n",
    "\n",
    "lista_pesquisa = ['informações', 'Negócios']"
   ]
  },
  {
   "cell_type": "code",
   "execution_count": 3,
   "metadata": {},
   "outputs": [],
   "source": [
    "## Texto para o parse\n",
    "\n",
    "texto = 'Exemplo de tratativa para negócios e operações dentro do processo de busca de informações'"
   ]
  },
  {
   "cell_type": "code",
   "execution_count": 4,
   "metadata": {},
   "outputs": [
    {
     "output_type": "stream",
     "name": "stdout",
     "text": [
      "Buscando por \"informações\" em : \n\n \"Exemplo de tratativa para negócios e operações dentro do processo de busca de informações\"\n\n\nPalavra encontrada. \n\n\n\nBuscando por \"Negócios\" em : \n\n \"Exemplo de tratativa para negócios e operações dentro do processo de busca de informações\"\n\n\nPalavra não encontrada. \n\n\n\n"
     ]
    }
   ],
   "source": [
    "## Data Mining\n",
    "\n",
    "for item in lista_pesquisa:\n",
    "    print ('Buscando por \"%s\" em : \\n\\n \"%s\"' %(item, texto))\n",
    "\n",
    "    #verificando se o termo existe no texto\n",
    "\n",
    "    if re.search(item, texto):\n",
    "        print('\\n')\n",
    "        print('Palavra encontrada. \\n')\n",
    "        print('\\n')\n",
    "    else:\n",
    "        print('\\n')\n",
    "        print('Palavra não encontrada. \\n')\n",
    "        print('\\n')"
   ]
  },
  {
   "cell_type": "code",
   "execution_count": null,
   "metadata": {},
   "outputs": [],
   "source": []
  }
 ]
}