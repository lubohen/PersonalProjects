{
 "metadata": {
  "language_info": {
   "codemirror_mode": {
    "name": "ipython",
    "version": 3
   },
   "file_extension": ".py",
   "mimetype": "text/x-python",
   "name": "python",
   "nbconvert_exporter": "python",
   "pygments_lexer": "ipython3",
   "version": "3.9.1-final"
  },
  "orig_nbformat": 2,
  "kernelspec": {
   "name": "python39164bitscrapyenvconda464ec5d63a8f4ff28534f0b894894a3b",
   "display_name": "Python 3.9.1 64-bit ('scrapyenv': conda)",
   "language": "python"
  }
 },
 "nbformat": 4,
 "nbformat_minor": 2,
 "cells": [
  {
   "cell_type": "code",
   "execution_count": 1,
   "metadata": {},
   "outputs": [],
   "source": [
    "import urllib.request"
   ]
  },
  {
   "cell_type": "code",
   "execution_count": 2,
   "metadata": {},
   "outputs": [],
   "source": [
    "with urllib.request.urlopen(\"https://www.python.org\") as url:\n",
    "    page = url.read()"
   ]
  },
  {
   "cell_type": "code",
   "execution_count": 3,
   "metadata": {
    "tags": [
     "outputPrepend"
    ]
   },
   "outputs": [
    {
     "output_type": "stream",
     "name": "stdout",
     "text": [
      "          \\n                            <ul class=\"menu\">\\n                                \\n                                \\n                                \\n                                <li>\\n<time datetime=\"2021-03-13T00:00:00+00:00\"><span class=\"say-no-more\">2021-</span>03-13</time>\\n <a href=\"/events/python-events/1043/\">PyCon Belarus 2021</a></li>\\n                                \\n                                \\n                                \\n                                <li>\\n<time datetime=\"2021-03-18T00:00:00+00:00\"><span class=\"say-no-more\">2021-</span>03-18</time>\\n <a href=\"/events/python-events/995/\">PyCon Cameroon 2021</a></li>\\n                                \\n                                \\n                                \\n                                <li>\\n<time datetime=\"2021-03-22T00:00:00+00:00\"><span class=\"say-no-more\">2021-</span>03-22</time>\\n <a href=\"/events/python-events/1041/\">Python Web Conference 2021</a></li>\\n                                \\n                                \\n                                \\n                                <li>\\n<time datetime=\"2021-03-25T17:30:00+00:00\"><span class=\"say-no-more\">2021-</span>03-25</time>\\n <a href=\"/events/python-user-group/1047/\">An introduction to delivering technical presentations with confidence - PyLadies Amsterdam</a></li>\\n                                \\n                                \\n                                \\n                                <li>\\n<time datetime=\"2021-04-08T00:00:00+00:00\"><span class=\"say-no-more\">2021-</span>04-08</time>\\n <a href=\"/events/python-events/1046/\">Python for ML and AI Global Summit&#39;21</a></li>\\n                                \\n                                \\n                            </ul>\\n                        </div>\\n\\n                    </div>\\n\\n                </div>\\n\\n                <div class=\"row\">\\n\\n                    <div class=\"medium-widget success-stories-widget\">\\n                        \\n\\n\\n\\n                        <div class=\"shrubbery\">\\n                            \\n\\n                            <h2 class=\"widget-title\"><span aria-hidden=\"true\" class=\"icon-success-stories\"></span>Success Stories</h2>\\n                            <p class=\"give-me-more\"><a href=\"/success-stories/\" title=\"More Success Stories\">More</a></p>\\n\\n                            \\n                            <div class=\"success-story-item\" id=\"success-story-929\">\\n\\n                            <blockquote>\\n                                <a href=\"/success-stories/python-provides-convenience-and-flexibility-for-scalable-mlai/\">Python&#39;s convenience has made it the most popular language for machine learning and artificial intelligence. Python&#39;s flexibility has allowed Anyscale to make ML/AI scalable from laptops to clusters.</a>\\n                            </blockquote>\\n\\n                            <table cellpadding=\"0\" cellspacing=\"0\" border=\"0\" width=\"100%\" class=\"quote-from\">\\n                                <tbody>\\n                                    <tr>\\n                                        \\n                                        <td><p><a href=\"/success-stories/python-provides-convenience-and-flexibility-for-scalable-mlai/\">Python provides convenience and flexibility for scalable ML/AI</a> <em>by Dean Wampler</em></p></td>\\n                                    </tr>\\n                                </tbody>\\n                            </table>\\n                            </div>\\n                            \\n\\n                        </div><!-- end .shrubbery -->\\n\\n                    </div>\\n\\n                    <div class=\"medium-widget applications-widget last\">\\n                        <div class=\"shrubbery\">\\n                            <h2 class=\"widget-title\"><span aria-hidden=\"true\" class=\"icon-python\"></span>Use Python for&hellip;</h2>\\r\\n<p class=\"give-me-more\"><a href=\"/about/apps\" title=\"More Applications\">More</a></p>\\r\\n\\r\\n<ul class=\"menu\">\\r\\n    <li><b>Web Development</b>:\\r\\n        <span class=\"tag-wrapper\"><a class=\"tag\" href=\"http://www.djangoproject.com/\">Django</a>, <a class=\"tag\" href=\"http://www.pylonsproject.org/\">Pyramid</a>, <a class=\"tag\" href=\"http://bottlepy.org\">Bottle</a>, <a class=\"tag\" href=\"http://tornadoweb.org\">Tornado</a>, <a href=\"http://flask.pocoo.org/\" class=\"tag\">Flask</a>, <a class=\"tag\" href=\"http://www.web2py.com/\">web2py</a></span></li>\\r\\n    <li><b>GUI Development</b>:\\r\\n        <span class=\"tag-wrapper\"><a class=\"tag\" href=\"http://wiki.python.org/moin/TkInter\">tkInter</a>, <a class=\"tag\" href=\"https://wiki.gnome.org/Projects/PyGObject\">PyGObject</a>, <a class=\"tag\" href=\"http://www.riverbankcomputing.co.uk/software/pyqt/intro\">PyQt</a>, <a class=\"tag\" href=\"https://wiki.qt.io/PySide\">PySide</a>, <a class=\"tag\" href=\"https://kivy.org/\">Kivy</a>, <a class=\"tag\" href=\"http://www.wxpython.org/\">wxPython</a></span></li>\\r\\n    <li><b>Scientific and Numeric</b>:\\r\\n        <span class=\"tag-wrapper\">\\r\\n<a class=\"tag\" href=\"http://www.scipy.org\">SciPy</a>, <a class=\"tag\" href=\"http://pandas.pydata.org/\">Pandas</a>, <a href=\"http://ipython.org\" class=\"tag\">IPython</a></span></li>\\r\\n    <li><b>Software Development</b>:\\r\\n        <span class=\"tag-wrapper\"><a class=\"tag\" href=\"http://buildbot.net/\">Buildbot</a>, <a class=\"tag\" href=\"http://trac.edgewall.org/\">Trac</a>, <a class=\"tag\" href=\"http://roundup.sourceforge.net/\">Roundup</a></span></li>\\r\\n    <li><b>System Administration</b>:\\r\\n        <span class=\"tag-wrapper\"><a class=\"tag\" href=\"http://www.ansible.com\">Ansible</a>, <a class=\"tag\" href=\"http://www.saltstack.com\">Salt</a>, <a class=\"tag\" href=\"https://www.openstack.org\">OpenStack</a></span></li>\\r\\n</ul>\\r\\n\\n                        </div><!-- end .shrubbery -->\\n                    </div>\\n\\n                </div>\\n\\n                \\n                <div class=\"pep-widget\">\\n\\n                    <h2 class=\"widget-title\">\\n                        <span class=\"prompt\">&gt;&gt;&gt;</span> <a href=\"/dev/peps/\">Python Enhancement Proposals<span class=\"say-no-more\"> (PEPs)</span></a>: The future of Python<span class=\"say-no-more\"> is discussed here.</span>\\n                        <a aria-hidden=\"true\" class=\"rss-link\" href=\"/dev/peps/peps.rss\"><span class=\"icon-feed\"></span> RSS</a>\\n                    </h2>\\n\\n\\n                    \\n                    \\n                </div>\\n\\n                                <div class=\"psf-widget\">\\n\\n                    <div class=\"python-logo\"></div>\\n                    \\n                    <h2 class=\"widget-title\">\\r\\n    <span class=\"prompt\">&gt;&gt;&gt;</span> <a href=\"/psf/\">Python Software Foundation</a>\\r\\n</h2>\\r\\n<p>The mission of the Python Software Foundation is to promote, protect, and advance the Python programming language, and to support and facilitate the growth of a diverse and international community of Python programmers. <a class=\"readmore\" href=\"/psf/\">Learn more</a> </p>\\r\\n<p class=\"click-these\">\\r\\n    <a class=\"button\" href=\"/users/membership/\">Become a Member</a>\\r\\n    <a class=\"button\" href=\"/psf/donations/\">Donate to the PSF</a>\\r\\n</p>\\n                </div>\\n\\n\\n\\n\\n                </section>\\n\\n                \\n                \\n\\n                \\n                \\n\\n\\n            </div><!-- end .container -->\\n        </div><!-- end #content .content-wrapper -->\\n\\n        <!-- Footer and social media list -->\\n        <footer id=\"site-map\" class=\"main-footer\" role=\"contentinfo\">\\n            <div class=\"main-footer-links\">\\n                <div class=\"container\">\\n\\n                    \\n                    <a id=\"back-to-top-1\" class=\"jump-link\" href=\"#python-network\"><span aria-hidden=\"true\" class=\"icon-arrow-up\"><span>&#9650;</span></span> Back to Top</a>\\n\\n                    \\n\\n<ul class=\"sitemap navigation menu do-not-print\" role=\"tree\" id=\"container\">\\n    \\n    <li class=\"tier-1 element-1\">\\n        <a href=\"/about/\" >About</a>\\n        \\n            \\n\\n<ul class=\"subnav menu\">\\n    \\n        <li class=\"tier-2 element-1\" role=\"treeitem\"><a href=\"/about/apps/\" title=\"\">Applications</a></li>\\n    \\n        <li class=\"tier-2 element-2\" role=\"treeitem\"><a href=\"/about/quotes/\" title=\"\">Quotes</a></li>\\n    \\n        <li class=\"tier-2 element-3\" role=\"treeitem\"><a href=\"/about/gettingstarted/\" title=\"\">Getting Started</a></li>\\n    \\n        <li class=\"tier-2 element-4\" role=\"treeitem\"><a href=\"/about/help/\" title=\"\">Help</a></li>\\n    \\n        <li class=\"tier-2 element-5\" role=\"treeitem\"><a href=\"http://brochure.getpython.info/\" title=\"\">Python Brochure</a></li>\\n    \\n</ul>\\n\\n        \\n    </li>\\n    \\n    <li class=\"tier-1 element-2\">\\n        <a href=\"/downloads/\" >Downloads</a>\\n        \\n            \\n\\n<ul class=\"subnav menu\">\\n    \\n        <li class=\"tier-2 element-1\" role=\"treeitem\"><a href=\"/downloads/\" title=\"\">All releases</a></li>\\n    \\n        <li class=\"tier-2 element-2\" role=\"treeitem\"><a href=\"/downloads/source/\" title=\"\">Source code</a></li>\\n    \\n        <li class=\"tier-2 element-3\" role=\"treeitem\"><a href=\"/downloads/windows/\" title=\"\">Windows</a></li>\\n    \\n        <li class=\"tier-2 element-4\" role=\"treeitem\"><a href=\"/downloads/mac-osx/\" title=\"\">Mac OS X</a></li>\\n    \\n        <li class=\"tier-2 element-5\" role=\"treeitem\"><a href=\"/download/other/\" title=\"\">Other Platforms</a></li>\\n    \\n        <li class=\"tier-2 element-6\" role=\"treeitem\"><a href=\"https://docs.python.org/3/license.html\" title=\"\">License</a></li>\\n    \\n        <li class=\"tier-2 element-7\" role=\"treeitem\"><a href=\"/download/alternatives\" title=\"\">Alternative Implementations</a></li>\\n    \\n</ul>\\n\\n        \\n    </li>\\n    \\n    <li class=\"tier-1 element-3\">\\n        <a href=\"/doc/\" >Documentation</a>\\n        \\n            \\n\\n<ul class=\"subnav menu\">\\n    \\n        <li class=\"tier-2 element-1\" role=\"treeitem\"><a href=\"/doc/\" title=\"\">Docs</a></li>\\n    \\n        <li class=\"tier-2 element-2\" role=\"treeitem\"><a href=\"/doc/av\" title=\"\">Audio/Visual Talks</a></li>\\n    \\n        <li class=\"tier-2 element-3\" role=\"treeitem\"><a href=\"https://wiki.python.org/moin/BeginnersGuide\" title=\"\">Beginner&#39;s Guide</a></li>\\n    \\n        <li class=\"tier-2 element-4\" role=\"treeitem\"><a href=\"https://devguide.python.org/\" title=\"\">Developer&#39;s Guide</a></li>\\n    \\n        <li class=\"tier-2 element-5\" role=\"treeitem\"><a href=\"https://docs.python.org/faq/\" title=\"\">FAQ</a></li>\\n    \\n        <li class=\"tier-2 element-6\" role=\"treeitem\"><a href=\"http://wiki.python.org/moin/Languages\" title=\"\">Non-English Docs</a></li>\\n    \\n        <li class=\"tier-2 element-7\" role=\"treeitem\"><a href=\"http://python.org/dev/peps/\" title=\"\">PEP Index</a></li>\\n    \\n        <li class=\"tier-2 element-8\" role=\"treeitem\"><a href=\"https://wiki.python.org/moin/PythonBooks\" title=\"\">Python Books</a></li>\\n    \\n        <li class=\"tier-2 element-9\" role=\"treeitem\"><a href=\"/doc/essays/\" title=\"\">Python Essays</a></li>\\n    \\n</ul>\\n\\n        \\n    </li>\\n    \\n    <li class=\"tier-1 element-4\">\\n        <a href=\"/community/\" >Community</a>\\n        \\n            \\n\\n<ul class=\"subnav menu\">\\n    \\n        <li class=\"tier-2 element-1\" role=\"treeitem\"><a href=\"/community/survey\" title=\"\">Community Survey</a></li>\\n    \\n        <li class=\"tier-2 element-2\" role=\"treeitem\"><a href=\"/community/diversity/\" title=\"\">Diversity</a></li>\\n    \\n        <li class=\"tier-2 element-3\" role=\"treeitem\"><a href=\"/community/lists/\" title=\"\">Mailing Lists</a></li>\\n    \\n        <li class=\"tier-2 element-4\" role=\"treeitem\"><a href=\"/community/irc/\" title=\"\">IRC</a></li>\\n    \\n        <li class=\"tier-2 element-5\" role=\"treeitem\"><a href=\"/community/forums/\" title=\"\">Forums</a></li>\\n    \\n        <li class=\"tier-2 element-6\" role=\"treeitem\"><a href=\"/psf/annual-report/2020/\" title=\"\">PSF Annual Impact Report</a></li>\\n    \\n        <li class=\"tier-2 element-7\" role=\"treeitem\"><a href=\"/community/workshops/\" title=\"\">Python Conferences</a></li>\\n    \\n        <li class=\"tier-2 element-8\" role=\"treeitem\"><a href=\"/community/sigs/\" title=\"\">Special Interest Groups</a></li>\\n    \\n        <li class=\"tier-2 element-9\" role=\"treeitem\"><a href=\"/community/logos/\" title=\"\">Python Logo</a></li>\\n    \\n        <li class=\"tier-2 element-10\" role=\"treeitem\"><a href=\"https://wiki.python.org/moin/\" title=\"\">Python Wiki</a></li>\\n    \\n        <li class=\"tier-2 element-11\" role=\"treeitem\"><a href=\"/community/merchandise/\" title=\"\">Merchandise</a></li>\\n    \\n        <li class=\"tier-2 element-12\" role=\"treeitem\"><a href=\"/community/awards\" title=\"\">Community Awards</a></li>\\n    \\n        <li class=\"tier-2 element-13\" role=\"treeitem\"><a href=\"/psf/conduct/\" title=\"\">Code of Conduct</a></li>\\n    \\n        <li class=\"tier-2 element-14\" role=\"treeitem\"><a href=\"/psf/get-involved/\" title=\"\">Get Involved</a></li>\\n    \\n        <li class=\"tier-2 element-15\" role=\"treeitem\"><a href=\"/psf/community-stories/\" title=\"\">Shared Stories</a></li>\\n    \\n</ul>\\n\\n        \\n    </li>\\n    \\n    <li class=\"tier-1 element-5\">\\n        <a href=\"/success-stories/\" title=\"success-stories\">Success Stories</a>\\n        \\n            \\n\\n<ul class=\"subnav menu\">\\n    \\n        <li class=\"tier-2 element-1\" role=\"treeitem\"><a href=\"/success-stories/category/arts/\" title=\"\">Arts</a></li>\\n    \\n        <li class=\"tier-2 element-2\" role=\"treeitem\"><a href=\"/success-stories/category/business/\" title=\"\">Business</a></li>\\n    \\n        <li class=\"tier-2 element-3\" role=\"treeitem\"><a href=\"/success-stories/category/education/\" title=\"\">Education</a></li>\\n    \\n        <li class=\"tier-2 element-4\" role=\"treeitem\"><a href=\"/success-stories/category/engineering/\" title=\"\">Engineering</a></li>\\n    \\n        <li class=\"tier-2 element-5\" role=\"treeitem\"><a href=\"/success-stories/category/government/\" title=\"\">Government</a></li>\\n    \\n        <li class=\"tier-2 element-6\" role=\"treeitem\"><a href=\"/success-stories/category/scientific/\" title=\"\">Scientific</a></li>\\n    \\n        <li class=\"tier-2 element-7\" role=\"treeitem\"><a href=\"/success-stories/category/software-development/\" title=\"\">Software Development</a></li>\\n    \\n</ul>\\n\\n        \\n    </li>\\n    \\n    <li class=\"tier-1 element-6\">\\n        <a href=\"/blogs/\" title=\"News from around the Python world\">News</a>\\n        \\n            \\n\\n<ul class=\"subnav menu\">\\n    \\n        <li class=\"tier-2 element-1\" role=\"treeitem\"><a href=\"/blogs/\" title=\"Python Insider Blog Posts\">Python News</a></li>\\n    \\n        <li class=\"tier-2 element-2\" role=\"treeitem\"><a href=\"/psf/newsletter/\" title=\"Python Software Foundation Newsletter\">PSF Newsletter</a></li>\\n    \\n        <li class=\"tier-2 element-3\" role=\"treeitem\"><a href=\"http://planetpython.org/\" title=\"Planet Python\">Community News</a></li>\\n    \\n        <li class=\"tier-2 element-4\" role=\"treeitem\"><a href=\"http://pyfound.blogspot.com/\" title=\"PSF Blog\">PSF News</a></li>\\n    \\n        <li class=\"tier-2 element-5\" role=\"treeitem\"><a href=\"http://pycon.blogspot.com/\" title=\"PyCon Blog\">PyCon News</a></li>\\n    \\n</ul>\\n\\n        \\n    </li>\\n    \\n    <li class=\"tier-1 element-7\">\\n        <a href=\"/events/\" >Events</a>\\n        \\n            \\n\\n<ul class=\"subnav menu\">\\n    \\n        <li class=\"tier-2 element-1\" role=\"treeitem\"><a href=\"/events/python-events\" title=\"\">Python Events</a></li>\\n    \\n        <li class=\"tier-2 element-2\" role=\"treeitem\"><a href=\"/events/python-user-group/\" title=\"\">User Group Events</a></li>\\n    \\n        <li class=\"tier-2 element-3\" role=\"treeitem\"><a href=\"/events/python-events/past/\" title=\"\">Python Events Archive</a></li>\\n    \\n        <li class=\"tier-2 element-4\" role=\"treeitem\"><a href=\"/events/python-user-group/past/\" title=\"\">User Group Events Archive</a></li>\\n    \\n        <li class=\"tier-2 element-5\" role=\"treeitem\"><a href=\"https://wiki.python.org/moin/PythonEventsCalendar#Submitting_an_Event\" title=\"\">Submit an Event</a></li>\\n    \\n</ul>\\n\\n        \\n    </li>\\n    \\n    <li class=\"tier-1 element-8\">\\n        <a href=\"/dev/\" >Contributing</a>\\n        \\n            \\n\\n<ul class=\"subnav menu\">\\n    \\n        <li class=\"tier-2 element-1\" role=\"treeitem\"><a href=\"https://devguide.python.org/\" title=\"\">Developer&#39;s Guide</a></li>\\n    \\n        <li class=\"tier-2 element-2\" role=\"treeitem\"><a href=\"https://bugs.python.org/\" title=\"\">Issue Tracker</a></li>\\n    \\n        <li class=\"tier-2 element-3\" role=\"treeitem\"><a href=\"https://mail.python.org/mailman/listinfo/python-dev\" title=\"\">python-dev list</a></li>\\n    \\n        <li class=\"tier-2 element-4\" role=\"treeitem\"><a href=\"/dev/core-mentorship/\" title=\"\">Core Mentorship</a></li>\\n    \\n        <li class=\"tier-2 element-5\" role=\"treeitem\"><a href=\"/dev/security/\" title=\"\">Report a Security Issue</a></li>\\n    \\n</ul>\\n\\n        \\n    </li>\\n    \\n</ul>\\n\\n\\n                    <a id=\"back-to-top-2\" class=\"jump-link\" href=\"#python-network\"><span aria-hidden=\"true\" class=\"icon-arrow-up\"><span>&#9650;</span></span> Back to Top</a>\\n                    \\n\\n                </div><!-- end .container -->\\n            </div> <!-- end .main-footer-links -->\\n\\n            <div class=\"site-base\">\\n                <div class=\"container\">\\n                    \\n                    <ul class=\"footer-links navigation menu do-not-print\" role=\"tree\">\\n                        <li class=\"tier-1 element-1\"><a href=\"/about/help/\">Help &amp; <span class=\"say-no-more\">General</span> Contact</a></li>\\n                        <li class=\"tier-1 element-2\"><a href=\"/community/diversity/\">Diversity <span class=\"say-no-more\">Initiatives</span></a></li>\\n                        <li class=\"tier-1 element-3\"><a href=\"https://github.com/python/pythondotorg/issues\">Submit Website Bug</a></li>\\n                        <li class=\"tier-1 element-4\">\\n                            <a href=\"https://status.python.org/\">Status <span class=\"python-status-indicator-default\" id=\"python-status-indicator\"></span></a>\\n                        </li>\\n                    </ul>\\n\\n                    <div class=\"copyright\">\\n                        <p><small>\\n                            <span class=\"pre\">Copyright &copy;2001-2021.</span>\\n                            &nbsp;<span class=\"pre\"><a href=\"/psf-landing/\">Python Software Foundation</a></span>\\n                            &nbsp;<span class=\"pre\"><a href=\"/about/legal/\">Legal Statements</a></span>\\n                            &nbsp;<span class=\"pre\"><a href=\"/privacy/\">Privacy Policy</a></span>\\n                            &nbsp;<span class=\"pre\"><a href=\"/psf/sponsorship/sponsors/#heroku\">Powered by Heroku</a></span>\\n                        </small></p>\\n                    </div>\\n\\n                </div><!-- end .container -->\\n            </div><!-- end .site-base -->\\n\\n        </footer>\\n\\n    </div><!-- end #touchnav-wrapper -->\\n\\n    \\n    <script src=\"//ajax.googleapis.com/ajax/libs/jquery/1.8.2/jquery.min.js\"></script>\\n    <script>window.jQuery || document.write(\\'<script src=\"/static/js/libs/jquery-1.8.2.min.js\"><\\\\/script>\\')</script>\\n    <script src=\"//ajax.googleapis.com/ajax/libs/jqueryui/1.12.1/jquery-ui.min.js\"></script>\\n    <script>window.jQuery || document.write(\\'<script src=\"/static/js/libs/jquery-ui-1.12.1.min.js\"><\\\\/script>\\')</script>\\n\\n    <script src=\"/static/js/libs/masonry.pkgd.min.js\"></script>\\n    <script src=\"/static/js/libs/html-includes.js\"></script>\\n\\n    <script type=\"text/javascript\" src=\"/static/js/main-min.35a45664b78f.js\" charset=\"utf-8\"></script>\\n    \\n\\n    <!--[if lte IE 7]>\\n    <script type=\"text/javascript\" src=\"/static/js/plugins/IE8-min.0d94299a0cdd.js\" charset=\"utf-8\"></script>\\n    \\n    \\n    <![endif]-->\\n\\n    <!--[if lte IE 8]>\\n    <script type=\"text/javascript\" src=\"/static/js/plugins/getComputedStyle-min.722f490e4652.js\" charset=\"utf-8\"></script>\\n    \\n    \\n    <![endif]-->\\n\\n    \\n\\n    \\n    \\n\\n</body>\\n</html>\\n'\n"
     ]
    }
   ],
   "source": [
    "print(page)"
   ]
  },
  {
   "cell_type": "code",
   "execution_count": 5,
   "metadata": {},
   "outputs": [],
   "source": [
    "from bs4 import BeautifulSoup"
   ]
  },
  {
   "cell_type": "code",
   "execution_count": 6,
   "metadata": {},
   "outputs": [],
   "source": [
    "soup = BeautifulSoup(page, \"html.parser\")"
   ]
  },
  {
   "cell_type": "code",
   "execution_count": 7,
   "metadata": {},
   "outputs": [
    {
     "output_type": "execute_result",
     "data": {
      "text/plain": [
       "<title>Welcome to Python.org</title>"
      ]
     },
     "metadata": {},
     "execution_count": 7
    }
   ],
   "source": [
    "soup.title"
   ]
  },
  {
   "cell_type": "code",
   "execution_count": 8,
   "metadata": {},
   "outputs": [
    {
     "output_type": "execute_result",
     "data": {
      "text/plain": [
       "'Welcome to Python.org'"
      ]
     },
     "metadata": {},
     "execution_count": 8
    }
   ],
   "source": [
    "soup.title.string"
   ]
  },
  {
   "cell_type": "code",
   "execution_count": 9,
   "metadata": {},
   "outputs": [
    {
     "output_type": "execute_result",
     "data": {
      "text/plain": [
       "<a href=\"#content\" title=\"Skip to content\">Skip to content</a>"
      ]
     },
     "metadata": {},
     "execution_count": 9
    }
   ],
   "source": [
    "soup.a"
   ]
  },
  {
   "cell_type": "code",
   "execution_count": 10,
   "metadata": {},
   "outputs": [
    {
     "output_type": "execute_result",
     "data": {
      "text/plain": [
       "[<a href=\"#content\" title=\"Skip to content\">Skip to content</a>,\n",
       " <a aria-hidden=\"true\" class=\"jump-link\" href=\"#python-network\" id=\"close-python-network\">\n",
       " <span aria-hidden=\"true\" class=\"icon-arrow-down\"><span>▼</span></span> Close\n",
       "                 </a>,\n",
       " <a class=\"current_item selectedcurrent_branch selected\" href=\"/\" title=\"The Python Programming Language\">Python</a>,\n",
       " <a href=\"/psf-landing/\" title=\"The Python Software Foundation\">PSF</a>,\n",
       " <a href=\"https://docs.python.org\" title=\"Python Documentation\">Docs</a>,\n",
       " <a href=\"https://pypi.org/\" title=\"Python Package Index\">PyPI</a>,\n",
       " <a href=\"/jobs/\" title=\"Python Job Board\">Jobs</a>,\n",
       " <a href=\"/community-landing/\">Community</a>,\n",
       " <a aria-hidden=\"true\" class=\"jump-link\" href=\"#top\" id=\"python-network\">\n",
       " <span aria-hidden=\"true\" class=\"icon-arrow-up\"><span>▲</span></span> The Python Network\n",
       "                 </a>,\n",
       " <a href=\"/\"><img alt=\"python™\" class=\"python-logo\" src=\"/static/img/python-logo.png\"/></a>,\n",
       " <a class=\"donate-button\" href=\"https://psfmember.org/civicrm/contribute/transact?reset=1&amp;id=2\">Donate</a>,\n",
       " <a class=\"jump-to-menu\" href=\"#site-map\" id=\"site-map-link\"><span class=\"menu-icon\">≡</span> Menu</a>,\n",
       " <a class=\"action-trigger\" href=\"#\"><strong><small>A</small> A</strong></a>,\n",
       " <a class=\"text-shrink\" href=\"javascript:;\" title=\"Make Text Smaller\">Smaller</a>,\n",
       " <a class=\"text-grow\" href=\"javascript:;\" title=\"Make Text Larger\">Larger</a>,\n",
       " <a class=\"text-reset\" href=\"javascript:;\" title=\"Reset any font size changes I have made\">Reset</a>,\n",
       " <a class=\"action-trigger\" href=\"#\">Socialize</a>,\n",
       " <a href=\"https://www.facebook.com/pythonlang?fref=ts\"><span aria-hidden=\"true\" class=\"icon-facebook\"></span>Facebook</a>,\n",
       " <a href=\"https://twitter.com/ThePSF\"><span aria-hidden=\"true\" class=\"icon-twitter\"></span>Twitter</a>,\n",
       " <a href=\"/community/irc/\"><span aria-hidden=\"true\" class=\"icon-freenode\"></span>Chat on IRC</a>,\n",
       " <a class=\"\" href=\"/about/\" title=\"\">About</a>,\n",
       " <a href=\"/about/apps/\" title=\"\">Applications</a>,\n",
       " <a href=\"/about/quotes/\" title=\"\">Quotes</a>,\n",
       " <a href=\"/about/gettingstarted/\" title=\"\">Getting Started</a>,\n",
       " <a href=\"/about/help/\" title=\"\">Help</a>,\n",
       " <a href=\"http://brochure.getpython.info/\" title=\"\">Python Brochure</a>,\n",
       " <a class=\"\" href=\"/downloads/\" title=\"\">Downloads</a>,\n",
       " <a href=\"/downloads/\" title=\"\">All releases</a>,\n",
       " <a href=\"/downloads/source/\" title=\"\">Source code</a>,\n",
       " <a href=\"/downloads/windows/\" title=\"\">Windows</a>,\n",
       " <a href=\"/downloads/mac-osx/\" title=\"\">Mac OS X</a>,\n",
       " <a href=\"/download/other/\" title=\"\">Other Platforms</a>,\n",
       " <a href=\"https://docs.python.org/3/license.html\" title=\"\">License</a>,\n",
       " <a href=\"/download/alternatives\" title=\"\">Alternative Implementations</a>,\n",
       " <a class=\"\" href=\"/doc/\" title=\"\">Documentation</a>,\n",
       " <a href=\"/doc/\" title=\"\">Docs</a>,\n",
       " <a href=\"/doc/av\" title=\"\">Audio/Visual Talks</a>,\n",
       " <a href=\"https://wiki.python.org/moin/BeginnersGuide\" title=\"\">Beginner's Guide</a>,\n",
       " <a href=\"https://devguide.python.org/\" title=\"\">Developer's Guide</a>,\n",
       " <a href=\"https://docs.python.org/faq/\" title=\"\">FAQ</a>,\n",
       " <a href=\"http://wiki.python.org/moin/Languages\" title=\"\">Non-English Docs</a>,\n",
       " <a href=\"http://python.org/dev/peps/\" title=\"\">PEP Index</a>,\n",
       " <a href=\"https://wiki.python.org/moin/PythonBooks\" title=\"\">Python Books</a>,\n",
       " <a href=\"/doc/essays/\" title=\"\">Python Essays</a>,\n",
       " <a class=\"\" href=\"/community/\" title=\"\">Community</a>,\n",
       " <a href=\"/community/survey\" title=\"\">Community Survey</a>,\n",
       " <a href=\"/community/diversity/\" title=\"\">Diversity</a>,\n",
       " <a href=\"/community/lists/\" title=\"\">Mailing Lists</a>,\n",
       " <a href=\"/community/irc/\" title=\"\">IRC</a>,\n",
       " <a href=\"/community/forums/\" title=\"\">Forums</a>,\n",
       " <a href=\"/psf/annual-report/2020/\" title=\"\">PSF Annual Impact Report</a>,\n",
       " <a href=\"/community/workshops/\" title=\"\">Python Conferences</a>,\n",
       " <a href=\"/community/sigs/\" title=\"\">Special Interest Groups</a>,\n",
       " <a href=\"/community/logos/\" title=\"\">Python Logo</a>,\n",
       " <a href=\"https://wiki.python.org/moin/\" title=\"\">Python Wiki</a>,\n",
       " <a href=\"/community/merchandise/\" title=\"\">Merchandise</a>,\n",
       " <a href=\"/community/awards\" title=\"\">Community Awards</a>,\n",
       " <a href=\"/psf/conduct/\" title=\"\">Code of Conduct</a>,\n",
       " <a href=\"/psf/get-involved/\" title=\"\">Get Involved</a>,\n",
       " <a href=\"/psf/community-stories/\" title=\"\">Shared Stories</a>,\n",
       " <a class=\"\" href=\"/success-stories/\" title=\"success-stories\">Success Stories</a>,\n",
       " <a href=\"/success-stories/category/arts/\" title=\"\">Arts</a>,\n",
       " <a href=\"/success-stories/category/business/\" title=\"\">Business</a>,\n",
       " <a href=\"/success-stories/category/education/\" title=\"\">Education</a>,\n",
       " <a href=\"/success-stories/category/engineering/\" title=\"\">Engineering</a>,\n",
       " <a href=\"/success-stories/category/government/\" title=\"\">Government</a>,\n",
       " <a href=\"/success-stories/category/scientific/\" title=\"\">Scientific</a>,\n",
       " <a href=\"/success-stories/category/software-development/\" title=\"\">Software Development</a>,\n",
       " <a class=\"\" href=\"/blogs/\" title=\"News from around the Python world\">News</a>,\n",
       " <a href=\"/blogs/\" title=\"Python Insider Blog Posts\">Python News</a>,\n",
       " <a href=\"/psf/newsletter/\" title=\"Python Software Foundation Newsletter\">PSF Newsletter</a>,\n",
       " <a href=\"http://planetpython.org/\" title=\"Planet Python\">Community News</a>,\n",
       " <a href=\"http://pyfound.blogspot.com/\" title=\"PSF Blog\">PSF News</a>,\n",
       " <a href=\"http://pycon.blogspot.com/\" title=\"PyCon Blog\">PyCon News</a>,\n",
       " <a class=\"\" href=\"/events/\" title=\"\">Events</a>,\n",
       " <a href=\"/events/python-events\" title=\"\">Python Events</a>,\n",
       " <a href=\"/events/python-user-group/\" title=\"\">User Group Events</a>,\n",
       " <a href=\"/events/python-events/past/\" title=\"\">Python Events Archive</a>,\n",
       " <a href=\"/events/python-user-group/past/\" title=\"\">User Group Events Archive</a>,\n",
       " <a href=\"https://wiki.python.org/moin/PythonEventsCalendar#Submitting_an_Event\" title=\"\">Submit an Event</a>,\n",
       " <a class=\"button prompt\" data-shell-container=\"#dive-into-python\" href=\"/shell/\" id=\"start-shell\">&gt;_\n",
       "                         <span class=\"message\">Launch Interactive Shell</span>\n",
       " </a>,\n",
       " <a href=\"//docs.python.org/3/tutorial/controlflow.html#defining-functions\">More about defining functions in Python 3</a>,\n",
       " <a href=\"//docs.python.org/3/tutorial/introduction.html#lists\">More about lists in Python 3</a>,\n",
       " <a href=\"http://docs.python.org/3/tutorial/introduction.html#using-python-as-a-calculator\">More about simple math functions in Python 3</a>,\n",
       " <a href=\"//docs.python.org/3/tutorial/\">Whet your appetite</a>,\n",
       " <a href=\"//docs.python.org/3/tutorial/controlflow.html\">More control flow tools in Python 3</a>,\n",
       " <a class=\"readmore\" href=\"/doc/\">Learn More</a>,\n",
       " <a class=\"button button--dark button--small button--primary\" href=\"https://www.jetbrains.com/lp/python-developers-survey-2020/\" rel=\"noopener\" style=\"color: #606060; border-color: #006dad; background-color: #006dad;\" target=\"_blank\">Python Developers Survey 2020</a>,\n",
       " <a href=\"/about/gettingstarted/\">Start with our Beginner’s Guide</a>,\n",
       " <a href=\"/downloads/release/python-392/\">Python 3.9.2</a>,\n",
       " <a href=\"https://docs.python.org\">docs.python.org</a>,\n",
       " <a href=\"//jobs.python.org\">jobs.python.org</a>,\n",
       " <a href=\"https://blog.python.org\" title=\"More News\">More</a>,\n",
       " <a href=\"http://feedproxy.google.com/~r/PythonSoftwareFoundationNews/~3/HxJ0eRomZwI/python-software-foundation-fellow.html\">Python Software Foundation Fellow Members for Q4 2020</a>,\n",
       " <a href=\"http://feedproxy.google.com/~r/PythonSoftwareFoundationNews/~3/v6DGTOxHRDQ/python-developers-survey-2020-results.html\">Python Developers Survey 2020 Results: Learn about the Community</a>,\n",
       " <a href=\"http://feedproxy.google.com/~r/PythonInsider/~3/neAiV_Bq2Ck/python-392-and-388-are-now-available.html\">Python 3.9.2 and 3.8.8 are now available</a>,\n",
       " <a href=\"http://feedproxy.google.com/~r/PythonInsider/~3/K1v58uqKOsI/python-392rc1-and-388rc1-are-now.html\">Python 3.9.2rc1 and 3.8.8rc1 are now available for testing</a>,\n",
       " <a href=\"http://feedproxy.google.com/~r/PythonInsider/~3/NfEAmX9_8yk/python-3710-and-3613-security-updates.html\">Python 3.7.10 and 3.6.13 security updates now available</a>,\n",
       " <a href=\"/events/calendars/\" title=\"More Events\">More</a>,\n",
       " <a href=\"/events/python-events/1043/\">PyCon Belarus 2021</a>,\n",
       " <a href=\"/events/python-events/995/\">PyCon Cameroon 2021</a>,\n",
       " <a href=\"/events/python-events/1041/\">Python Web Conference 2021</a>,\n",
       " <a href=\"/events/python-user-group/1047/\">An introduction to delivering technical presentations with confidence - PyLadies Amsterdam</a>,\n",
       " <a href=\"/events/python-events/1046/\">Python for ML and AI Global Summit'21</a>,\n",
       " <a href=\"/success-stories/\" title=\"More Success Stories\">More</a>,\n",
       " <a href=\"/success-stories/python-provides-convenience-and-flexibility-for-scalable-mlai/\">Python's convenience has made it the most popular language for machine learning and artificial intelligence. Python's flexibility has allowed Anyscale to make ML/AI scalable from laptops to clusters.</a>,\n",
       " <a href=\"/success-stories/python-provides-convenience-and-flexibility-for-scalable-mlai/\">Python provides convenience and flexibility for scalable ML/AI</a>,\n",
       " <a href=\"/about/apps\" title=\"More Applications\">More</a>,\n",
       " <a class=\"tag\" href=\"http://www.djangoproject.com/\">Django</a>,\n",
       " <a class=\"tag\" href=\"http://www.pylonsproject.org/\">Pyramid</a>,\n",
       " <a class=\"tag\" href=\"http://bottlepy.org\">Bottle</a>,\n",
       " <a class=\"tag\" href=\"http://tornadoweb.org\">Tornado</a>,\n",
       " <a class=\"tag\" href=\"http://flask.pocoo.org/\">Flask</a>,\n",
       " <a class=\"tag\" href=\"http://www.web2py.com/\">web2py</a>,\n",
       " <a class=\"tag\" href=\"http://wiki.python.org/moin/TkInter\">tkInter</a>,\n",
       " <a class=\"tag\" href=\"https://wiki.gnome.org/Projects/PyGObject\">PyGObject</a>,\n",
       " <a class=\"tag\" href=\"http://www.riverbankcomputing.co.uk/software/pyqt/intro\">PyQt</a>,\n",
       " <a class=\"tag\" href=\"https://wiki.qt.io/PySide\">PySide</a>,\n",
       " <a class=\"tag\" href=\"https://kivy.org/\">Kivy</a>,\n",
       " <a class=\"tag\" href=\"http://www.wxpython.org/\">wxPython</a>,\n",
       " <a class=\"tag\" href=\"http://www.scipy.org\">SciPy</a>,\n",
       " <a class=\"tag\" href=\"http://pandas.pydata.org/\">Pandas</a>,\n",
       " <a class=\"tag\" href=\"http://ipython.org\">IPython</a>,\n",
       " <a class=\"tag\" href=\"http://buildbot.net/\">Buildbot</a>,\n",
       " <a class=\"tag\" href=\"http://trac.edgewall.org/\">Trac</a>,\n",
       " <a class=\"tag\" href=\"http://roundup.sourceforge.net/\">Roundup</a>,\n",
       " <a class=\"tag\" href=\"http://www.ansible.com\">Ansible</a>,\n",
       " <a class=\"tag\" href=\"http://www.saltstack.com\">Salt</a>,\n",
       " <a class=\"tag\" href=\"https://www.openstack.org\">OpenStack</a>,\n",
       " <a href=\"/dev/peps/\">Python Enhancement Proposals<span class=\"say-no-more\"> (PEPs)</span></a>,\n",
       " <a aria-hidden=\"true\" class=\"rss-link\" href=\"/dev/peps/peps.rss\"><span class=\"icon-feed\"></span> RSS</a>,\n",
       " <a href=\"/psf/\">Python Software Foundation</a>,\n",
       " <a class=\"readmore\" href=\"/psf/\">Learn more</a>,\n",
       " <a class=\"button\" href=\"/users/membership/\">Become a Member</a>,\n",
       " <a class=\"button\" href=\"/psf/donations/\">Donate to the PSF</a>,\n",
       " <a class=\"jump-link\" href=\"#python-network\" id=\"back-to-top-1\"><span aria-hidden=\"true\" class=\"icon-arrow-up\"><span>▲</span></span> Back to Top</a>,\n",
       " <a href=\"/about/\">About</a>,\n",
       " <a href=\"/about/apps/\" title=\"\">Applications</a>,\n",
       " <a href=\"/about/quotes/\" title=\"\">Quotes</a>,\n",
       " <a href=\"/about/gettingstarted/\" title=\"\">Getting Started</a>,\n",
       " <a href=\"/about/help/\" title=\"\">Help</a>,\n",
       " <a href=\"http://brochure.getpython.info/\" title=\"\">Python Brochure</a>,\n",
       " <a href=\"/downloads/\">Downloads</a>,\n",
       " <a href=\"/downloads/\" title=\"\">All releases</a>,\n",
       " <a href=\"/downloads/source/\" title=\"\">Source code</a>,\n",
       " <a href=\"/downloads/windows/\" title=\"\">Windows</a>,\n",
       " <a href=\"/downloads/mac-osx/\" title=\"\">Mac OS X</a>,\n",
       " <a href=\"/download/other/\" title=\"\">Other Platforms</a>,\n",
       " <a href=\"https://docs.python.org/3/license.html\" title=\"\">License</a>,\n",
       " <a href=\"/download/alternatives\" title=\"\">Alternative Implementations</a>,\n",
       " <a href=\"/doc/\">Documentation</a>,\n",
       " <a href=\"/doc/\" title=\"\">Docs</a>,\n",
       " <a href=\"/doc/av\" title=\"\">Audio/Visual Talks</a>,\n",
       " <a href=\"https://wiki.python.org/moin/BeginnersGuide\" title=\"\">Beginner's Guide</a>,\n",
       " <a href=\"https://devguide.python.org/\" title=\"\">Developer's Guide</a>,\n",
       " <a href=\"https://docs.python.org/faq/\" title=\"\">FAQ</a>,\n",
       " <a href=\"http://wiki.python.org/moin/Languages\" title=\"\">Non-English Docs</a>,\n",
       " <a href=\"http://python.org/dev/peps/\" title=\"\">PEP Index</a>,\n",
       " <a href=\"https://wiki.python.org/moin/PythonBooks\" title=\"\">Python Books</a>,\n",
       " <a href=\"/doc/essays/\" title=\"\">Python Essays</a>,\n",
       " <a href=\"/community/\">Community</a>,\n",
       " <a href=\"/community/survey\" title=\"\">Community Survey</a>,\n",
       " <a href=\"/community/diversity/\" title=\"\">Diversity</a>,\n",
       " <a href=\"/community/lists/\" title=\"\">Mailing Lists</a>,\n",
       " <a href=\"/community/irc/\" title=\"\">IRC</a>,\n",
       " <a href=\"/community/forums/\" title=\"\">Forums</a>,\n",
       " <a href=\"/psf/annual-report/2020/\" title=\"\">PSF Annual Impact Report</a>,\n",
       " <a href=\"/community/workshops/\" title=\"\">Python Conferences</a>,\n",
       " <a href=\"/community/sigs/\" title=\"\">Special Interest Groups</a>,\n",
       " <a href=\"/community/logos/\" title=\"\">Python Logo</a>,\n",
       " <a href=\"https://wiki.python.org/moin/\" title=\"\">Python Wiki</a>,\n",
       " <a href=\"/community/merchandise/\" title=\"\">Merchandise</a>,\n",
       " <a href=\"/community/awards\" title=\"\">Community Awards</a>,\n",
       " <a href=\"/psf/conduct/\" title=\"\">Code of Conduct</a>,\n",
       " <a href=\"/psf/get-involved/\" title=\"\">Get Involved</a>,\n",
       " <a href=\"/psf/community-stories/\" title=\"\">Shared Stories</a>,\n",
       " <a href=\"/success-stories/\" title=\"success-stories\">Success Stories</a>,\n",
       " <a href=\"/success-stories/category/arts/\" title=\"\">Arts</a>,\n",
       " <a href=\"/success-stories/category/business/\" title=\"\">Business</a>,\n",
       " <a href=\"/success-stories/category/education/\" title=\"\">Education</a>,\n",
       " <a href=\"/success-stories/category/engineering/\" title=\"\">Engineering</a>,\n",
       " <a href=\"/success-stories/category/government/\" title=\"\">Government</a>,\n",
       " <a href=\"/success-stories/category/scientific/\" title=\"\">Scientific</a>,\n",
       " <a href=\"/success-stories/category/software-development/\" title=\"\">Software Development</a>,\n",
       " <a href=\"/blogs/\" title=\"News from around the Python world\">News</a>,\n",
       " <a href=\"/blogs/\" title=\"Python Insider Blog Posts\">Python News</a>,\n",
       " <a href=\"/psf/newsletter/\" title=\"Python Software Foundation Newsletter\">PSF Newsletter</a>,\n",
       " <a href=\"http://planetpython.org/\" title=\"Planet Python\">Community News</a>,\n",
       " <a href=\"http://pyfound.blogspot.com/\" title=\"PSF Blog\">PSF News</a>,\n",
       " <a href=\"http://pycon.blogspot.com/\" title=\"PyCon Blog\">PyCon News</a>,\n",
       " <a href=\"/events/\">Events</a>,\n",
       " <a href=\"/events/python-events\" title=\"\">Python Events</a>,\n",
       " <a href=\"/events/python-user-group/\" title=\"\">User Group Events</a>,\n",
       " <a href=\"/events/python-events/past/\" title=\"\">Python Events Archive</a>,\n",
       " <a href=\"/events/python-user-group/past/\" title=\"\">User Group Events Archive</a>,\n",
       " <a href=\"https://wiki.python.org/moin/PythonEventsCalendar#Submitting_an_Event\" title=\"\">Submit an Event</a>,\n",
       " <a href=\"/dev/\">Contributing</a>,\n",
       " <a href=\"https://devguide.python.org/\" title=\"\">Developer's Guide</a>,\n",
       " <a href=\"https://bugs.python.org/\" title=\"\">Issue Tracker</a>,\n",
       " <a href=\"https://mail.python.org/mailman/listinfo/python-dev\" title=\"\">python-dev list</a>,\n",
       " <a href=\"/dev/core-mentorship/\" title=\"\">Core Mentorship</a>,\n",
       " <a href=\"/dev/security/\" title=\"\">Report a Security Issue</a>,\n",
       " <a class=\"jump-link\" href=\"#python-network\" id=\"back-to-top-2\"><span aria-hidden=\"true\" class=\"icon-arrow-up\"><span>▲</span></span> Back to Top</a>,\n",
       " <a href=\"/about/help/\">Help &amp; <span class=\"say-no-more\">General</span> Contact</a>,\n",
       " <a href=\"/community/diversity/\">Diversity <span class=\"say-no-more\">Initiatives</span></a>,\n",
       " <a href=\"https://github.com/python/pythondotorg/issues\">Submit Website Bug</a>,\n",
       " <a href=\"https://status.python.org/\">Status <span class=\"python-status-indicator-default\" id=\"python-status-indicator\"></span></a>,\n",
       " <a href=\"/psf-landing/\">Python Software Foundation</a>,\n",
       " <a href=\"/about/legal/\">Legal Statements</a>,\n",
       " <a href=\"/privacy/\">Privacy Policy</a>,\n",
       " <a href=\"/psf/sponsorship/sponsors/#heroku\">Powered by Heroku</a>]"
      ]
     },
     "metadata": {},
     "execution_count": 10
    }
   ],
   "source": [
    "soup.find_all(\"a\")"
   ]
  },
  {
   "cell_type": "code",
   "execution_count": 11,
   "metadata": {},
   "outputs": [],
   "source": [
    "tables = soup.find('table')"
   ]
  },
  {
   "cell_type": "code",
   "execution_count": 12,
   "metadata": {},
   "outputs": [
    {
     "output_type": "stream",
     "name": "stdout",
     "text": [
      "<table border=\"0\" cellpadding=\"0\" cellspacing=\"0\" class=\"quote-from\" width=\"100%\">\n<tbody>\n<tr>\n<td><p><a href=\"/success-stories/python-provides-convenience-and-flexibility-for-scalable-mlai/\">Python provides convenience and flexibility for scalable ML/AI</a> <em>by Dean Wampler</em></p></td>\n</tr>\n</tbody>\n</table>\n"
     ]
    }
   ],
   "source": [
    "print(tables)"
   ]
  },
  {
   "cell_type": "code",
   "execution_count": null,
   "metadata": {},
   "outputs": [],
   "source": []
  }
 ]
}